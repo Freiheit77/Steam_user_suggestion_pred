{
 "cells": [
  {
   "cell_type": "markdown",
   "metadata": {},
   "source": [
    "# Steam User Suggestion Prediction "
   ]
  },
  {
   "cell_type": "markdown",
   "metadata": {},
   "source": [
    "***This code script used steam review data to predict user suggestion.***"
   ]
  },
  {
   "cell_type": "code",
   "execution_count": 1,
   "metadata": {
    "ExecuteTime": {
     "end_time": "2020-04-26T21:26:39.191520Z",
     "start_time": "2020-04-26T21:26:32.570434Z"
    }
   },
   "outputs": [],
   "source": [
    "# load packages\n",
    "import pandas as pd  \n",
    "import numpy as np\n",
    "import matplotlib.pyplot as plt\n",
    "import seaborn as sns\n",
    "import ast\n",
    "# nlp \n",
    "import nltk \n",
    "from nltk.tokenize import word_tokenize\n",
    "from nltk.corpus import stopwords\n",
    "from nltk.stem import PorterStemmer\n",
    "import string\n",
    "from sklearn.feature_extraction.text import CountVectorizer\n",
    "# word embedding\n",
    "import gensim \n",
    "from gensim.models import Word2Vec\n",
    "# sentiment\n",
    "from textblob import TextBlob\n",
    "# machine learning\n",
    "from sklearn.linear_model import LogisticRegression\n",
    "from sklearn import svm\n",
    "from sklearn.ensemble import RandomForestRegressor\n",
    "from sklearn import metrics\n",
    "from sklearn.metrics import r2_score"
   ]
  },
  {
   "cell_type": "markdown",
   "metadata": {},
   "source": [
    "## Load dataset"
   ]
  },
  {
   "cell_type": "code",
   "execution_count": 2,
   "metadata": {
    "ExecuteTime": {
     "end_time": "2020-04-26T21:26:45.060421Z",
     "start_time": "2020-04-26T21:26:44.656556Z"
    }
   },
   "outputs": [],
   "source": [
    "steam_train = pd.read_csv(\"train.csv\")\n",
    "overview = pd.read_csv(\"game_overview.csv\")\n",
    "steam_test = pd.read_csv(\"test.csv\")"
   ]
  },
  {
   "cell_type": "code",
   "execution_count": 3,
   "metadata": {
    "ExecuteTime": {
     "end_time": "2020-04-19T23:18:50.928505Z",
     "start_time": "2020-04-19T23:18:50.911086Z"
    }
   },
   "outputs": [
    {
     "data": {
      "text/html": [
       "<div>\n",
       "<style scoped>\n",
       "    .dataframe tbody tr th:only-of-type {\n",
       "        vertical-align: middle;\n",
       "    }\n",
       "\n",
       "    .dataframe tbody tr th {\n",
       "        vertical-align: top;\n",
       "    }\n",
       "\n",
       "    .dataframe thead th {\n",
       "        text-align: right;\n",
       "    }\n",
       "</style>\n",
       "<table border=\"1\" class=\"dataframe\">\n",
       "  <thead>\n",
       "    <tr style=\"text-align: right;\">\n",
       "      <th></th>\n",
       "      <th>review_id</th>\n",
       "      <th>title</th>\n",
       "      <th>year</th>\n",
       "      <th>user_review</th>\n",
       "      <th>user_suggestion</th>\n",
       "    </tr>\n",
       "  </thead>\n",
       "  <tbody>\n",
       "    <tr>\n",
       "      <td>0</td>\n",
       "      <td>1</td>\n",
       "      <td>Spooky's Jump Scare Mansion</td>\n",
       "      <td>2016.0</td>\n",
       "      <td>I'm scared and hearing creepy voices.  So I'll...</td>\n",
       "      <td>1</td>\n",
       "    </tr>\n",
       "    <tr>\n",
       "      <td>1</td>\n",
       "      <td>2</td>\n",
       "      <td>Spooky's Jump Scare Mansion</td>\n",
       "      <td>2016.0</td>\n",
       "      <td>Best game, more better than Sam Pepper's YouTu...</td>\n",
       "      <td>1</td>\n",
       "    </tr>\n",
       "    <tr>\n",
       "      <td>2</td>\n",
       "      <td>3</td>\n",
       "      <td>Spooky's Jump Scare Mansion</td>\n",
       "      <td>2016.0</td>\n",
       "      <td>A littly iffy on the controls, but once you kn...</td>\n",
       "      <td>1</td>\n",
       "    </tr>\n",
       "  </tbody>\n",
       "</table>\n",
       "</div>"
      ],
      "text/plain": [
       "   review_id                        title    year  \\\n",
       "0          1  Spooky's Jump Scare Mansion  2016.0   \n",
       "1          2  Spooky's Jump Scare Mansion  2016.0   \n",
       "2          3  Spooky's Jump Scare Mansion  2016.0   \n",
       "\n",
       "                                         user_review  user_suggestion  \n",
       "0  I'm scared and hearing creepy voices.  So I'll...                1  \n",
       "1  Best game, more better than Sam Pepper's YouTu...                1  \n",
       "2  A littly iffy on the controls, but once you kn...                1  "
      ]
     },
     "execution_count": 3,
     "metadata": {},
     "output_type": "execute_result"
    }
   ],
   "source": [
    "steam_train.head(3)"
   ]
  },
  {
   "cell_type": "code",
   "execution_count": 4,
   "metadata": {
    "ExecuteTime": {
     "end_time": "2020-04-19T23:18:53.072374Z",
     "start_time": "2020-04-19T23:18:53.054213Z"
    },
    "scrolled": true
   },
   "outputs": [
    {
     "data": {
      "text/html": [
       "<div>\n",
       "<style scoped>\n",
       "    .dataframe tbody tr th:only-of-type {\n",
       "        vertical-align: middle;\n",
       "    }\n",
       "\n",
       "    .dataframe tbody tr th {\n",
       "        vertical-align: top;\n",
       "    }\n",
       "\n",
       "    .dataframe thead th {\n",
       "        text-align: right;\n",
       "    }\n",
       "</style>\n",
       "<table border=\"1\" class=\"dataframe\">\n",
       "  <thead>\n",
       "    <tr style=\"text-align: right;\">\n",
       "      <th></th>\n",
       "      <th>title</th>\n",
       "      <th>developer</th>\n",
       "      <th>publisher</th>\n",
       "      <th>tags</th>\n",
       "      <th>overview</th>\n",
       "    </tr>\n",
       "  </thead>\n",
       "  <tbody>\n",
       "    <tr>\n",
       "      <td>0</td>\n",
       "      <td>Spooky's Jump Scare Mansion</td>\n",
       "      <td>Lag Studios</td>\n",
       "      <td>Lag Studios</td>\n",
       "      <td>['Horror', 'Free to Play', 'Cute', 'First-Pers...</td>\n",
       "      <td>Can you survive 1000 rooms of cute terror? Or ...</td>\n",
       "    </tr>\n",
       "    <tr>\n",
       "      <td>1</td>\n",
       "      <td>Sakura Clicker</td>\n",
       "      <td>Winged Cloud</td>\n",
       "      <td>Winged Cloud</td>\n",
       "      <td>['Nudity', 'Anime', 'Free to Play', 'Mature', ...</td>\n",
       "      <td>The latest entry in the Sakura series is more ...</td>\n",
       "    </tr>\n",
       "    <tr>\n",
       "      <td>2</td>\n",
       "      <td>WARMODE</td>\n",
       "      <td>WARTEAM</td>\n",
       "      <td>WARTEAM</td>\n",
       "      <td>['Early Access', 'Free to Play', 'FPS', 'Multi...</td>\n",
       "      <td>Free to play shooter about the confrontation o...</td>\n",
       "    </tr>\n",
       "  </tbody>\n",
       "</table>\n",
       "</div>"
      ],
      "text/plain": [
       "                         title      developer      publisher  \\\n",
       "0  Spooky's Jump Scare Mansion   Lag Studios    Lag Studios    \n",
       "1               Sakura Clicker  Winged Cloud   Winged Cloud    \n",
       "2                      WARMODE       WARTEAM        WARTEAM    \n",
       "\n",
       "                                                tags  \\\n",
       "0  ['Horror', 'Free to Play', 'Cute', 'First-Pers...   \n",
       "1  ['Nudity', 'Anime', 'Free to Play', 'Mature', ...   \n",
       "2  ['Early Access', 'Free to Play', 'FPS', 'Multi...   \n",
       "\n",
       "                                            overview  \n",
       "0  Can you survive 1000 rooms of cute terror? Or ...  \n",
       "1  The latest entry in the Sakura series is more ...  \n",
       "2  Free to play shooter about the confrontation o...  "
      ]
     },
     "execution_count": 4,
     "metadata": {},
     "output_type": "execute_result"
    }
   ],
   "source": [
    "overview.head(3)"
   ]
  },
  {
   "cell_type": "code",
   "execution_count": 3,
   "metadata": {
    "ExecuteTime": {
     "end_time": "2020-04-26T21:26:48.880551Z",
     "start_time": "2020-04-26T21:26:48.830467Z"
    }
   },
   "outputs": [
    {
     "data": {
      "text/html": [
       "<div>\n",
       "<style scoped>\n",
       "    .dataframe tbody tr th:only-of-type {\n",
       "        vertical-align: middle;\n",
       "    }\n",
       "\n",
       "    .dataframe tbody tr th {\n",
       "        vertical-align: top;\n",
       "    }\n",
       "\n",
       "    .dataframe thead th {\n",
       "        text-align: right;\n",
       "    }\n",
       "</style>\n",
       "<table border=\"1\" class=\"dataframe\">\n",
       "  <thead>\n",
       "    <tr style=\"text-align: right;\">\n",
       "      <th></th>\n",
       "      <th>review_id</th>\n",
       "      <th>title</th>\n",
       "      <th>year</th>\n",
       "      <th>user_review</th>\n",
       "      <th>user_suggestion</th>\n",
       "      <th>developer</th>\n",
       "      <th>publisher</th>\n",
       "      <th>tags</th>\n",
       "      <th>overview</th>\n",
       "    </tr>\n",
       "  </thead>\n",
       "  <tbody>\n",
       "    <tr>\n",
       "      <td>0</td>\n",
       "      <td>1</td>\n",
       "      <td>Spooky's Jump Scare Mansion</td>\n",
       "      <td>2016.0</td>\n",
       "      <td>I'm scared and hearing creepy voices.  So I'll...</td>\n",
       "      <td>1</td>\n",
       "      <td>Lag Studios</td>\n",
       "      <td>Lag Studios</td>\n",
       "      <td>['Horror', 'Free to Play', 'Cute', 'First-Pers...</td>\n",
       "      <td>Can you survive 1000 rooms of cute terror? Or ...</td>\n",
       "    </tr>\n",
       "    <tr>\n",
       "      <td>1</td>\n",
       "      <td>2</td>\n",
       "      <td>Spooky's Jump Scare Mansion</td>\n",
       "      <td>2016.0</td>\n",
       "      <td>Best game, more better than Sam Pepper's YouTu...</td>\n",
       "      <td>1</td>\n",
       "      <td>Lag Studios</td>\n",
       "      <td>Lag Studios</td>\n",
       "      <td>['Horror', 'Free to Play', 'Cute', 'First-Pers...</td>\n",
       "      <td>Can you survive 1000 rooms of cute terror? Or ...</td>\n",
       "    </tr>\n",
       "    <tr>\n",
       "      <td>2</td>\n",
       "      <td>3</td>\n",
       "      <td>Spooky's Jump Scare Mansion</td>\n",
       "      <td>2016.0</td>\n",
       "      <td>A littly iffy on the controls, but once you kn...</td>\n",
       "      <td>1</td>\n",
       "      <td>Lag Studios</td>\n",
       "      <td>Lag Studios</td>\n",
       "      <td>['Horror', 'Free to Play', 'Cute', 'First-Pers...</td>\n",
       "      <td>Can you survive 1000 rooms of cute terror? Or ...</td>\n",
       "    </tr>\n",
       "  </tbody>\n",
       "</table>\n",
       "</div>"
      ],
      "text/plain": [
       "   review_id                        title    year  \\\n",
       "0          1  Spooky's Jump Scare Mansion  2016.0   \n",
       "1          2  Spooky's Jump Scare Mansion  2016.0   \n",
       "2          3  Spooky's Jump Scare Mansion  2016.0   \n",
       "\n",
       "                                         user_review  user_suggestion  \\\n",
       "0  I'm scared and hearing creepy voices.  So I'll...                1   \n",
       "1  Best game, more better than Sam Pepper's YouTu...                1   \n",
       "2  A littly iffy on the controls, but once you kn...                1   \n",
       "\n",
       "      developer     publisher  \\\n",
       "0  Lag Studios   Lag Studios    \n",
       "1  Lag Studios   Lag Studios    \n",
       "2  Lag Studios   Lag Studios    \n",
       "\n",
       "                                                tags  \\\n",
       "0  ['Horror', 'Free to Play', 'Cute', 'First-Pers...   \n",
       "1  ['Horror', 'Free to Play', 'Cute', 'First-Pers...   \n",
       "2  ['Horror', 'Free to Play', 'Cute', 'First-Pers...   \n",
       "\n",
       "                                            overview  \n",
       "0  Can you survive 1000 rooms of cute terror? Or ...  \n",
       "1  Can you survive 1000 rooms of cute terror? Or ...  \n",
       "2  Can you survive 1000 rooms of cute terror? Or ...  "
      ]
     },
     "execution_count": 3,
     "metadata": {},
     "output_type": "execute_result"
    }
   ],
   "source": [
    "# join train data with overview data\n",
    "df_steam = pd.merge(steam_train, overview, how='left', on='title')\n",
    "df_steam.head(3)"
   ]
  },
  {
   "cell_type": "code",
   "execution_count": 4,
   "metadata": {
    "ExecuteTime": {
     "end_time": "2020-04-26T21:26:50.730167Z",
     "start_time": "2020-04-26T21:26:50.700574Z"
    }
   },
   "outputs": [
    {
     "data": {
      "text/html": [
       "<div>\n",
       "<style scoped>\n",
       "    .dataframe tbody tr th:only-of-type {\n",
       "        vertical-align: middle;\n",
       "    }\n",
       "\n",
       "    .dataframe tbody tr th {\n",
       "        vertical-align: top;\n",
       "    }\n",
       "\n",
       "    .dataframe thead th {\n",
       "        text-align: right;\n",
       "    }\n",
       "</style>\n",
       "<table border=\"1\" class=\"dataframe\">\n",
       "  <thead>\n",
       "    <tr style=\"text-align: right;\">\n",
       "      <th></th>\n",
       "      <th>review_id</th>\n",
       "      <th>title</th>\n",
       "      <th>year</th>\n",
       "      <th>user_review</th>\n",
       "      <th>developer</th>\n",
       "      <th>publisher</th>\n",
       "      <th>tags</th>\n",
       "      <th>overview</th>\n",
       "    </tr>\n",
       "  </thead>\n",
       "  <tbody>\n",
       "    <tr>\n",
       "      <td>0</td>\n",
       "      <td>1603</td>\n",
       "      <td>Counter-Strike: Global Offensive</td>\n",
       "      <td>2015.0</td>\n",
       "      <td>Nice graphics, new maps, weapons and models. B...</td>\n",
       "      <td>Valve, Hidden Path Entertainment</td>\n",
       "      <td>Valve</td>\n",
       "      <td>['FPS', 'Multiplayer', 'Shooter', 'Action', 'T...</td>\n",
       "      <td>Counter-Strike: Global Offensive (CS: GO) expa...</td>\n",
       "    </tr>\n",
       "    <tr>\n",
       "      <td>1</td>\n",
       "      <td>1604</td>\n",
       "      <td>Counter-Strike: Global Offensive</td>\n",
       "      <td>2018.0</td>\n",
       "      <td>I would not recommend getting into this at its...</td>\n",
       "      <td>Valve, Hidden Path Entertainment</td>\n",
       "      <td>Valve</td>\n",
       "      <td>['FPS', 'Multiplayer', 'Shooter', 'Action', 'T...</td>\n",
       "      <td>Counter-Strike: Global Offensive (CS: GO) expa...</td>\n",
       "    </tr>\n",
       "    <tr>\n",
       "      <td>2</td>\n",
       "      <td>1605</td>\n",
       "      <td>Counter-Strike: Global Offensive</td>\n",
       "      <td>2018.0</td>\n",
       "      <td>Edit 11/12/18I have tried playing CS:GO recent...</td>\n",
       "      <td>Valve, Hidden Path Entertainment</td>\n",
       "      <td>Valve</td>\n",
       "      <td>['FPS', 'Multiplayer', 'Shooter', 'Action', 'T...</td>\n",
       "      <td>Counter-Strike: Global Offensive (CS: GO) expa...</td>\n",
       "    </tr>\n",
       "  </tbody>\n",
       "</table>\n",
       "</div>"
      ],
      "text/plain": [
       "   review_id                             title    year  \\\n",
       "0       1603  Counter-Strike: Global Offensive  2015.0   \n",
       "1       1604  Counter-Strike: Global Offensive  2018.0   \n",
       "2       1605  Counter-Strike: Global Offensive  2018.0   \n",
       "\n",
       "                                         user_review  \\\n",
       "0  Nice graphics, new maps, weapons and models. B...   \n",
       "1  I would not recommend getting into this at its...   \n",
       "2  Edit 11/12/18I have tried playing CS:GO recent...   \n",
       "\n",
       "                           developer publisher  \\\n",
       "0  Valve, Hidden Path Entertainment     Valve    \n",
       "1  Valve, Hidden Path Entertainment     Valve    \n",
       "2  Valve, Hidden Path Entertainment     Valve    \n",
       "\n",
       "                                                tags  \\\n",
       "0  ['FPS', 'Multiplayer', 'Shooter', 'Action', 'T...   \n",
       "1  ['FPS', 'Multiplayer', 'Shooter', 'Action', 'T...   \n",
       "2  ['FPS', 'Multiplayer', 'Shooter', 'Action', 'T...   \n",
       "\n",
       "                                            overview  \n",
       "0  Counter-Strike: Global Offensive (CS: GO) expa...  \n",
       "1  Counter-Strike: Global Offensive (CS: GO) expa...  \n",
       "2  Counter-Strike: Global Offensive (CS: GO) expa...  "
      ]
     },
     "execution_count": 4,
     "metadata": {},
     "output_type": "execute_result"
    }
   ],
   "source": [
    "# join test data with overview data\n",
    "df_test = pd.merge(steam_test, overview, how='left', on='title')\n",
    "df_test.head(3)"
   ]
  },
  {
   "cell_type": "markdown",
   "metadata": {},
   "source": [
    "## EDA"
   ]
  },
  {
   "cell_type": "code",
   "execution_count": 9,
   "metadata": {
    "ExecuteTime": {
     "end_time": "2020-04-26T21:36:30.120304Z",
     "start_time": "2020-04-26T21:36:29.444717Z"
    }
   },
   "outputs": [
    {
     "data": {
      "text/plain": [
       "<matplotlib.axes._subplots.AxesSubplot at 0x1218a0590>"
      ]
     },
     "execution_count": 9,
     "metadata": {},
     "output_type": "execute_result"
    },
    {
     "data": {
      "image/png": "[encoded data removed]",
      "text/plain": [
       "<Figure size 864x360 with 1 Axes>"
      ]
     },
     "metadata": {
      "needs_background": "light"
     },
     "output_type": "display_data"
    }
   ],
   "source": [
    "df_steam['reviewLength'] = df_steam['user_review'].apply(lambda x:len(str(x)))\n",
    "plt.figure(figsize=(12,5))\n",
    "df_steam['titleLength'].value_counts().head(10).sort_values(ascending = False).plot(kind=\"bar\", color='darkred')"
   ]
  },
  {
   "cell_type": "code",
   "execution_count": 11,
   "metadata": {
    "ExecuteTime": {
     "end_time": "2020-04-26T21:41:55.028704Z",
     "start_time": "2020-04-26T21:41:54.674257Z"
    }
   },
   "outputs": [
    {
     "data": {
      "text/plain": [
       "Text(0, 0.5, 'No_of_games')"
      ]
     },
     "execution_count": 11,
     "metadata": {},
     "output_type": "execute_result"
    },
    {
     "data": {
      "image/png": "[encoded data removed]",
      "text/plain": [
       "<Figure size 864x360 with 1 Axes>"
      ]
     },
     "metadata": {
      "needs_background": "light"
     },
     "output_type": "display_data"
    }
   ],
   "source": [
    "plt.figure(figsize=(12,5))\n",
    "count=df_steam[\"year\"].value_counts()\n",
    "g = sns.lineplot(count.index, count.values, alpha=0.8)\n",
    "g.set_title(\"Game by years\", fontsize=20)\n",
    "g.set_xlabel(\"Release year\", fontsize=15)\n",
    "g.set_ylabel(\"No_of_games\", fontsize=15)"
   ]
  },
  {
   "cell_type": "code",
   "execution_count": 12,
   "metadata": {
    "ExecuteTime": {
     "end_time": "2020-04-26T21:44:03.591003Z",
     "start_time": "2020-04-26T21:44:03.308704Z"
    }
   },
   "outputs": [
    {
     "data": {
      "text/plain": [
       "<matplotlib.axes._subplots.AxesSubplot at 0x121bc0d10>"
      ]
     },
     "execution_count": 12,
     "metadata": {},
     "output_type": "execute_result"
    },
    {
     "data": {
      "image/png": "[encoded data removed]",
      "text/plain": [
       "<Figure size 864x360 with 1 Axes>"
      ]
     },
     "metadata": {
      "needs_background": "light"
     },
     "output_type": "display_data"
    }
   ],
   "source": [
    "plt.figure(figsize=(12,5))\n",
    "df_steam['publisher'].value_counts().head(10).sort_values(ascending = False).plot(kind=\"bar\", \n",
    "                                                    color=sns.cubehelix_palette(n_colors=10, reverse=True))"
   ]
  },
  {
   "cell_type": "code",
   "execution_count": 13,
   "metadata": {
    "ExecuteTime": {
     "end_time": "2020-04-26T21:44:30.095038Z",
     "start_time": "2020-04-26T21:44:29.786697Z"
    }
   },
   "outputs": [
    {
     "data": {
      "text/plain": [
       "<matplotlib.axes._subplots.AxesSubplot at 0x121f767d0>"
      ]
     },
     "execution_count": 13,
     "metadata": {},
     "output_type": "execute_result"
    },
    {
     "data": {
      "image/png": "[encoded data removed]",
      "text/plain": [
       "<Figure size 864x360 with 1 Axes>"
      ]
     },
     "metadata": {
      "needs_background": "light"
     },
     "output_type": "display_data"
    }
   ],
   "source": [
    "plt.figure(figsize=(12,5))\n",
    "df_steam['developer'].value_counts().head(10).sort_values(ascending = False).plot(kind=\"bar\", \n",
    "                                                    color=sns.cubehelix_palette(n_colors=10, reverse=True))"
   ]
  },
  {
   "cell_type": "markdown",
   "metadata": {},
   "source": [
    "## Feature engineering"
   ]
  },
  {
   "cell_type": "markdown",
   "metadata": {},
   "source": [
    "### separate tags "
   ]
  },
  {
   "cell_type": "code",
   "execution_count": 5,
   "metadata": {
    "ExecuteTime": {
     "end_time": "2020-04-26T17:45:21.538128Z",
     "start_time": "2020-04-26T17:45:20.165325Z"
    }
   },
   "outputs": [
    {
     "data": {
      "text/html": [
       "<div>\n",
       "<style scoped>\n",
       "    .dataframe tbody tr th:only-of-type {\n",
       "        vertical-align: middle;\n",
       "    }\n",
       "\n",
       "    .dataframe tbody tr th {\n",
       "        vertical-align: top;\n",
       "    }\n",
       "\n",
       "    .dataframe thead th {\n",
       "        text-align: right;\n",
       "    }\n",
       "</style>\n",
       "<table border=\"1\" class=\"dataframe\">\n",
       "  <thead>\n",
       "    <tr style=\"text-align: right;\">\n",
       "      <th></th>\n",
       "      <th>horror</th>\n",
       "      <th>free</th>\n",
       "      <th>to</th>\n",
       "      <th>play</th>\n",
       "      <th>cute</th>\n",
       "      <th>first</th>\n",
       "      <th>person</th>\n",
       "      <th>singleplayer</th>\n",
       "      <th>psychological</th>\n",
       "      <th>indie</th>\n",
       "      <th>...</th>\n",
       "      <th>resource</th>\n",
       "      <th>gun</th>\n",
       "      <th>education</th>\n",
       "      <th>puzzle</th>\n",
       "      <th>america</th>\n",
       "      <th>masterpiece</th>\n",
       "      <th>family</th>\n",
       "      <th>friendly</th>\n",
       "      <th>mod</th>\n",
       "      <th>classic</th>\n",
       "    </tr>\n",
       "  </thead>\n",
       "  <tbody>\n",
       "    <tr>\n",
       "      <td>0</td>\n",
       "      <td>0</td>\n",
       "      <td>0</td>\n",
       "      <td>0</td>\n",
       "      <td>1</td>\n",
       "      <td>1</td>\n",
       "      <td>0</td>\n",
       "      <td>0</td>\n",
       "      <td>1</td>\n",
       "      <td>0</td>\n",
       "      <td>0</td>\n",
       "      <td>...</td>\n",
       "      <td>0</td>\n",
       "      <td>0</td>\n",
       "      <td>0</td>\n",
       "      <td>0</td>\n",
       "      <td>0</td>\n",
       "      <td>0</td>\n",
       "      <td>1</td>\n",
       "      <td>0</td>\n",
       "      <td>0</td>\n",
       "      <td>0</td>\n",
       "    </tr>\n",
       "    <tr>\n",
       "      <td>1</td>\n",
       "      <td>0</td>\n",
       "      <td>0</td>\n",
       "      <td>0</td>\n",
       "      <td>1</td>\n",
       "      <td>1</td>\n",
       "      <td>0</td>\n",
       "      <td>0</td>\n",
       "      <td>1</td>\n",
       "      <td>0</td>\n",
       "      <td>0</td>\n",
       "      <td>...</td>\n",
       "      <td>0</td>\n",
       "      <td>0</td>\n",
       "      <td>0</td>\n",
       "      <td>0</td>\n",
       "      <td>0</td>\n",
       "      <td>0</td>\n",
       "      <td>1</td>\n",
       "      <td>0</td>\n",
       "      <td>0</td>\n",
       "      <td>0</td>\n",
       "    </tr>\n",
       "    <tr>\n",
       "      <td>2</td>\n",
       "      <td>0</td>\n",
       "      <td>0</td>\n",
       "      <td>0</td>\n",
       "      <td>1</td>\n",
       "      <td>1</td>\n",
       "      <td>0</td>\n",
       "      <td>0</td>\n",
       "      <td>1</td>\n",
       "      <td>0</td>\n",
       "      <td>0</td>\n",
       "      <td>...</td>\n",
       "      <td>0</td>\n",
       "      <td>0</td>\n",
       "      <td>0</td>\n",
       "      <td>0</td>\n",
       "      <td>0</td>\n",
       "      <td>0</td>\n",
       "      <td>1</td>\n",
       "      <td>0</td>\n",
       "      <td>0</td>\n",
       "      <td>0</td>\n",
       "    </tr>\n",
       "  </tbody>\n",
       "</table>\n",
       "<p>3 rows × 162 columns</p>\n",
       "</div>"
      ],
      "text/plain": [
       "   horror  free  to  play  cute  first  person  singleplayer  psychological  \\\n",
       "0       0     0   0     1     1      0       0             1              0   \n",
       "1       0     0   0     1     1      0       0             1              0   \n",
       "2       0     0   0     1     1      0       0             1              0   \n",
       "\n",
       "   indie  ...  resource  gun  education  puzzle  america  masterpiece  family  \\\n",
       "0      0  ...         0    0          0       0        0            0       1   \n",
       "1      0  ...         0    0          0       0        0            0       1   \n",
       "2      0  ...         0    0          0       0        0            0       1   \n",
       "\n",
       "   friendly  mod  classic  \n",
       "0         0    0        0  \n",
       "1         0    0        0  \n",
       "2         0    0        0  \n",
       "\n",
       "[3 rows x 162 columns]"
      ]
     },
     "execution_count": 5,
     "metadata": {},
     "output_type": "execute_result"
    }
   ],
   "source": [
    "## train dataset\n",
    "# convert string object to list\n",
    "tags = df_steam[\"tags\"].apply(lambda x: ast.literal_eval(x))\n",
    "tags = tags.apply(lambda x: ','.join(x))\n",
    "\n",
    "# count unique tag frequency\n",
    "count_vec = CountVectorizer()\n",
    "tags = count_vec.fit_transform(tags)\n",
    "\n",
    "# create tag vector\n",
    "tags_vec = []\n",
    "for tag, idx in count_vec.vocabulary_.items():\n",
    "    tags_vec.append(tag)\n",
    "\n",
    "# create dataframe\n",
    "df_tags = pd.DataFrame(data=tags.todense(), columns=tags_vec)\n",
    "df_tags.head(3)"
   ]
  },
  {
   "cell_type": "code",
   "execution_count": 6,
   "metadata": {
    "ExecuteTime": {
     "end_time": "2020-04-26T17:45:23.944261Z",
     "start_time": "2020-04-26T17:45:23.381529Z"
    }
   },
   "outputs": [
    {
     "data": {
      "text/html": [
       "<div>\n",
       "<style scoped>\n",
       "    .dataframe tbody tr th:only-of-type {\n",
       "        vertical-align: middle;\n",
       "    }\n",
       "\n",
       "    .dataframe tbody tr th {\n",
       "        vertical-align: top;\n",
       "    }\n",
       "\n",
       "    .dataframe thead th {\n",
       "        text-align: right;\n",
       "    }\n",
       "</style>\n",
       "<table border=\"1\" class=\"dataframe\">\n",
       "  <thead>\n",
       "    <tr style=\"text-align: right;\">\n",
       "      <th></th>\n",
       "      <th>fps</th>\n",
       "      <th>multiplayer</th>\n",
       "      <th>shooter</th>\n",
       "      <th>action</th>\n",
       "      <th>team</th>\n",
       "      <th>based</th>\n",
       "      <th>competitive</th>\n",
       "      <th>tactical</th>\n",
       "      <th>first</th>\n",
       "      <th>person</th>\n",
       "      <th>...</th>\n",
       "      <th>book</th>\n",
       "      <th>magic</th>\n",
       "      <th>board</th>\n",
       "      <th>battle</th>\n",
       "      <th>royale</th>\n",
       "      <th>zombies</th>\n",
       "      <th>violent</th>\n",
       "      <th>walking</th>\n",
       "      <th>simulator</th>\n",
       "      <th>gore</th>\n",
       "    </tr>\n",
       "  </thead>\n",
       "  <tbody>\n",
       "    <tr>\n",
       "      <td>0</td>\n",
       "      <td>0</td>\n",
       "      <td>0</td>\n",
       "      <td>1</td>\n",
       "      <td>0</td>\n",
       "      <td>0</td>\n",
       "      <td>0</td>\n",
       "      <td>0</td>\n",
       "      <td>0</td>\n",
       "      <td>1</td>\n",
       "      <td>0</td>\n",
       "      <td>...</td>\n",
       "      <td>0</td>\n",
       "      <td>0</td>\n",
       "      <td>1</td>\n",
       "      <td>0</td>\n",
       "      <td>0</td>\n",
       "      <td>0</td>\n",
       "      <td>0</td>\n",
       "      <td>1</td>\n",
       "      <td>0</td>\n",
       "      <td>0</td>\n",
       "    </tr>\n",
       "    <tr>\n",
       "      <td>1</td>\n",
       "      <td>0</td>\n",
       "      <td>0</td>\n",
       "      <td>1</td>\n",
       "      <td>0</td>\n",
       "      <td>0</td>\n",
       "      <td>0</td>\n",
       "      <td>0</td>\n",
       "      <td>0</td>\n",
       "      <td>1</td>\n",
       "      <td>0</td>\n",
       "      <td>...</td>\n",
       "      <td>0</td>\n",
       "      <td>0</td>\n",
       "      <td>1</td>\n",
       "      <td>0</td>\n",
       "      <td>0</td>\n",
       "      <td>0</td>\n",
       "      <td>0</td>\n",
       "      <td>1</td>\n",
       "      <td>0</td>\n",
       "      <td>0</td>\n",
       "    </tr>\n",
       "    <tr>\n",
       "      <td>2</td>\n",
       "      <td>0</td>\n",
       "      <td>0</td>\n",
       "      <td>1</td>\n",
       "      <td>0</td>\n",
       "      <td>0</td>\n",
       "      <td>0</td>\n",
       "      <td>0</td>\n",
       "      <td>0</td>\n",
       "      <td>1</td>\n",
       "      <td>0</td>\n",
       "      <td>...</td>\n",
       "      <td>0</td>\n",
       "      <td>0</td>\n",
       "      <td>1</td>\n",
       "      <td>0</td>\n",
       "      <td>0</td>\n",
       "      <td>0</td>\n",
       "      <td>0</td>\n",
       "      <td>1</td>\n",
       "      <td>0</td>\n",
       "      <td>0</td>\n",
       "    </tr>\n",
       "  </tbody>\n",
       "</table>\n",
       "<p>3 rows × 123 columns</p>\n",
       "</div>"
      ],
      "text/plain": [
       "   fps  multiplayer  shooter  action  team  based  competitive  tactical  \\\n",
       "0    0            0        1       0     0      0            0         0   \n",
       "1    0            0        1       0     0      0            0         0   \n",
       "2    0            0        1       0     0      0            0         0   \n",
       "\n",
       "   first  person  ...  book  magic  board  battle  royale  zombies  violent  \\\n",
       "0      1       0  ...     0      0      1       0       0        0        0   \n",
       "1      1       0  ...     0      0      1       0       0        0        0   \n",
       "2      1       0  ...     0      0      1       0       0        0        0   \n",
       "\n",
       "   walking  simulator  gore  \n",
       "0        1          0     0  \n",
       "1        1          0     0  \n",
       "2        1          0     0  \n",
       "\n",
       "[3 rows x 123 columns]"
      ]
     },
     "execution_count": 6,
     "metadata": {},
     "output_type": "execute_result"
    }
   ],
   "source": [
    "## test dataset\n",
    "# convert string object to list\n",
    "test_tags = df_test[\"tags\"].apply(lambda x: ast.literal_eval(x))\n",
    "test_tags = test_tags.apply(lambda x: ','.join(x))\n",
    "\n",
    "# count unique tag frequency\n",
    "test_cv = CountVectorizer()\n",
    "test_tags = test_cv.fit_transform(test_tags)\n",
    "\n",
    "# create tag vector\n",
    "test_tags_vec = []\n",
    "for tag, idx in test_cv.vocabulary_.items():\n",
    "    test_tags_vec.append(tag)\n",
    "\n",
    "# create dataframe\n",
    "df_test_tags = pd.DataFrame(data=test_tags.todense(), columns=test_tags_vec)\n",
    "df_test_tags.head(3)"
   ]
  },
  {
   "cell_type": "code",
   "execution_count": 7,
   "metadata": {
    "ExecuteTime": {
     "end_time": "2020-04-26T17:45:25.948584Z",
     "start_time": "2020-04-26T17:45:25.916046Z"
    }
   },
   "outputs": [
    {
     "data": {
      "text/plain": [
       "(8045, 162)"
      ]
     },
     "execution_count": 7,
     "metadata": {},
     "output_type": "execute_result"
    }
   ],
   "source": [
    "# keep tags appearing both in train and test dataset, remove tags only appearing in the test dataset\n",
    "df_test_tags = df_test_tags[df_test_tags.columns.intersection(tags_vec)]\n",
    "feature_difference = set(df_tags) - set(df_test_tags)\n",
    "df_feature_difference = pd.DataFrame(data=np.zeros((df_test_tags.shape[0], \n",
    "                                                len(feature_difference))),\n",
    "                                 columns=list(feature_difference))\n",
    "df_test_tags = df_test_tags.join(df_feature_difference)\n",
    "df_test_tags.shape"
   ]
  },
  {
   "cell_type": "markdown",
   "metadata": {},
   "source": [
    "### Create title and publisher dummy "
   ]
  },
  {
   "cell_type": "code",
   "execution_count": 8,
   "metadata": {
    "ExecuteTime": {
     "end_time": "2020-04-26T17:45:43.393832Z",
     "start_time": "2020-04-26T17:45:43.286252Z"
    }
   },
   "outputs": [
    {
     "data": {
      "text/plain": [
       "(8045, 89)"
      ]
     },
     "execution_count": 8,
     "metadata": {},
     "output_type": "execute_result"
    }
   ],
   "source": [
    "factors = ['title', 'publisher']\n",
    "\n",
    "## train dataset\n",
    "for var in factors:\n",
    "    cat_list='var'+'_'+var\n",
    "    cat_list = pd.get_dummies(df_steam[var], prefix=var, drop_first=True)\n",
    "    df_steam = pd.concat([df_steam,cat_list], axis = 1)\n",
    "    df_steam = df_steam.drop(var, 1)\n",
    "    \n",
    "## test dataset\n",
    "for var in factors:\n",
    "    cat_list='var'+'_'+var\n",
    "    cat_list = pd.get_dummies(df_test[var], prefix=var, drop_first=True)\n",
    "    df_test = pd.concat([df_test,cat_list], axis = 1)\n",
    "    df_test = df_test.drop(var, 1)\n",
    "    \n",
    "    \n",
    "df_test = df_test[df_test.columns.intersection(df_steam.columns.values)]\n",
    "fd = set(df_steam) - set(df_test)\n",
    "df_fd = pd.DataFrame(data=np.zeros((df_test.shape[0], len(fd))),\n",
    "                                 columns=list(fd))\n",
    "df_test = df_test.join(df_fd)\n",
    "df_test.shape"
   ]
  },
  {
   "cell_type": "markdown",
   "metadata": {},
   "source": [
    "### Word tokenization"
   ]
  },
  {
   "cell_type": "code",
   "execution_count": 14,
   "metadata": {
    "ExecuteTime": {
     "end_time": "2020-04-26T21:47:27.251988Z",
     "start_time": "2020-04-26T21:46:28.340192Z"
    }
   },
   "outputs": [
    {
     "name": "stdout",
     "output_type": "stream",
     "text": [
      "0        [hear, creepi, paus, moment, write, review, wa...\n",
      "1        [best, game, better, sam, pepper, account, nee...\n",
      "2        [iffi, know, play, easi, master, made, floor, ...\n",
      "3        [great, game, fun, color, side, note, though, ...\n",
      "4        [mani, cute, tag, right, next, horror, tag, fi...\n",
      "                               ...                        \n",
      "17489    [singl, today, free, littl, competit, game, gr...\n",
      "17490    [older, game, sure, charm, special, place, hea...\n",
      "17491    [frist, amaz, still, great, friendli, matur, l...\n",
      "17492    [cool, game, thing, realli, ridabl, transport,...\n",
      "17493    [game, sinc, littl, alway, sinc, still, rememb...\n",
      "Name: user_review, Length: 17494, dtype: object\n"
     ]
    }
   ],
   "source": [
    "# convert text to lower case \n",
    "train_review = df_steam[\"user_review\"].str.lower()\n",
    "\n",
    "# remove numbers\n",
    "train_review = train_review.replace(\"\\d+\", '')\n",
    "\n",
    "# words Tokenization\n",
    "train_review = train_review.apply(word_tokenize)\n",
    "\n",
    "# remove non-English words\n",
    "engwords = set(nltk.corpus.words.words())\n",
    "train_review = train_review.apply(lambda x: [w for w in x if w in engwords])\n",
    "\n",
    "# remove punctuation\n",
    "punctuations = list(string.punctuation)\n",
    "train_review = train_review.apply(lambda x: \n",
    "            [i.strip(\"\".join(punctuations)) for i in x if i not in punctuations])\n",
    "\n",
    "# handle negations\n",
    "def handleNegations (text):\n",
    "    for i in range(len(text)-1):\n",
    "        if text[i] == \"not\":\n",
    "            text[i] == \"\"\n",
    "            text[i+1] ==\"not_\"+text[i+1]\n",
    "        elif \"n't\" in text[i]:\n",
    "            text[i] = text[i].replace(\"n't\", \"\")\n",
    "            text[i+1] = \"not_\"+text[i+1]\n",
    "        else: continue\n",
    "    return text\n",
    "\n",
    "train_review = train_review.apply(handleNegations)\n",
    "\n",
    "# remove stop words \n",
    "stop_words=set(stopwords.words(\"english\"))\n",
    "new_stop = ['http','www','com']\n",
    "stop_words.update(new_stop)\n",
    "train_review = train_review.apply(lambda x: [item for item in x if item not in stop_words])\n",
    "\n",
    "# stem words \n",
    "porter_stemmer = PorterStemmer()\n",
    "stemmed_train_review = train_review.apply(lambda x: [porter_stemmer.stem(y) for y in x])\n",
    "\n",
    "print(stemmed_train_review)"
   ]
  },
  {
   "cell_type": "code",
   "execution_count": 11,
   "metadata": {
    "ExecuteTime": {
     "end_time": "2020-04-26T17:47:26.423220Z",
     "start_time": "2020-04-26T17:47:03.326602Z"
    }
   },
   "outputs": [
    {
     "name": "stdout",
     "output_type": "stream",
     "text": [
      "0       [nice, graphic, new, listen, bit, much, import...\n",
      "1       [would, recommend, get, current, state, hit, r...\n",
      "2       [edit, tri, go, recent, dramat, gotten, wors, ...\n",
      "3       [game, great, commun, match, mayb, fine, time,...\n",
      "4       [thank, long, time, ago, would, play, around, ...\n",
      "                              ...                        \n",
      "8040    [earli, access, posit, good, idea, lot, fun, p...\n",
      "8041    [review, spend, money, would, seam, better, al...\n",
      "8042    [realli, get, except, bug, mean, stand, chanc,...\n",
      "8043    [sauci, suggest, life, new, tast, tower, defen...\n",
      "8044    [see, peopl, play, say, game, bad, side, see, ...\n",
      "Name: user_review, Length: 8045, dtype: object\n"
     ]
    }
   ],
   "source": [
    "# convert text to lower case \n",
    "test_review = df_test[\"user_review\"].str.lower()\n",
    "\n",
    "# remove numbers\n",
    "test_review = test_review.replace(\"\\d+\", '')\n",
    "\n",
    "# words Tokenization\n",
    "test_review = test_review.apply(word_tokenize)\n",
    "\n",
    "# remove non-English words\n",
    "test_review = test_review.apply(lambda x: [w for w in x if w in engwords])\n",
    "\n",
    "# remove punctuation\n",
    "test_review = test_review.apply(lambda x: \n",
    "            [i.strip(\"\".join(punctuations)) for i in x if i not in punctuations])\n",
    "\n",
    "# handle negations\n",
    "test_review = test_review.apply(handleNegations)\n",
    "\n",
    "# remove stop words \n",
    "test_review = test_review.apply(lambda x: [item for item in x if item not in stop_words])\n",
    "\n",
    "# stem words \n",
    "porterStemmer = PorterStemmer()\n",
    "stemmed_test_review = test_review.apply(lambda x: [porterStemmer.stem(y) for y in x])\n",
    "\n",
    "print(stemmed_test_review)"
   ]
  },
  {
   "cell_type": "markdown",
   "metadata": {},
   "source": [
    "### sentiment score and text length  "
   ]
  },
  {
   "cell_type": "code",
   "execution_count": 13,
   "metadata": {
    "ExecuteTime": {
     "end_time": "2020-04-26T17:49:31.324740Z",
     "start_time": "2020-04-26T17:49:09.797279Z"
    }
   },
   "outputs": [],
   "source": [
    "## train dataset\n",
    "\n",
    "# define function to get sentiment score\n",
    "def get_polarity (content):\n",
    "    score = TextBlob(content).sentiment.polarity\n",
    "    return score\n",
    "\n",
    "df_steam['reviewPolarity'] = stemmed_train_review.apply(lambda x:get_polarity(str(x)))"
   ]
  },
  {
   "cell_type": "code",
   "execution_count": 14,
   "metadata": {
    "ExecuteTime": {
     "end_time": "2020-04-26T17:49:48.215469Z",
     "start_time": "2020-04-26T17:49:38.592058Z"
    }
   },
   "outputs": [],
   "source": [
    "## test dataset\n",
    "df_test[\"reviewPolarity\"] = stemmed_test_review.apply(lambda x:get_polarity(str(x)))\n",
    "df_test[\"reviewLength\"] = df_test[\"user_review\"].apply(lambda x:len(str(x)))"
   ]
  },
  {
   "cell_type": "markdown",
   "metadata": {},
   "source": [
    "### Word2vec feature extraction "
   ]
  },
  {
   "cell_type": "code",
   "execution_count": 15,
   "metadata": {
    "ExecuteTime": {
     "end_time": "2020-04-26T21:47:46.660933Z",
     "start_time": "2020-04-26T21:47:33.923765Z"
    }
   },
   "outputs": [
    {
     "name": "stdout",
     "output_type": "stream",
     "text": [
      "Word2Vec(vocab=5024, size=150, alpha=0.025)\n"
     ]
    }
   ],
   "source": [
    "# train word2vec model -> learn the weights of the hidden layer\n",
    "# size: num of neural network layers \n",
    "# window: maximum distance between the target word and its neighboring word\n",
    "word2vec_model = Word2Vec(stemmed_train_review, size=150, window=5, min_count=5, workers=3, iter=10)\n",
    "print(word2vec_model)\n",
    "\n",
    "# summarize vocabulary\n",
    "words = list(word2vec_model.wv.vocab)\n",
    "#print(words)"
   ]
  },
  {
   "cell_type": "code",
   "execution_count": 16,
   "metadata": {
    "ExecuteTime": {
     "end_time": "2020-04-26T17:50:04.314087Z",
     "start_time": "2020-04-26T17:50:04.119080Z"
    }
   },
   "outputs": [],
   "source": [
    "# save and load model \n",
    "word2vec_model.save(\"word2vec.model\")\n",
    "word2vec_model = Word2Vec.load(\"word2vec.model\")\n",
    "# continue train the model \n",
    "#word2vec_model.train(stemmed_test_review,total_examples=len(stemmed_test_review),epochs=10)"
   ]
  },
  {
   "cell_type": "code",
   "execution_count": 24,
   "metadata": {
    "ExecuteTime": {
     "end_time": "2020-04-21T05:58:31.454857Z",
     "start_time": "2020-04-21T05:58:31.377470Z"
    }
   },
   "outputs": [
    {
     "data": {
      "text/plain": [
       "[('cute', 0.845608115196228),\n",
       " ('scari', 0.8072538375854492),\n",
       " ('cardboard', 0.7835646867752075),\n",
       " ('chase', 0.7595124244689941),\n",
       " ('spooki', 0.7523843050003052),\n",
       " ('ador', 0.7320796847343445),\n",
       " ('scare', 0.720510721206665),\n",
       " ('babi', 0.7106027007102966),\n",
       " ('terrifi', 0.7073004841804504),\n",
       " ('puppet', 0.705169677734375)]"
      ]
     },
     "execution_count": 24,
     "metadata": {},
     "output_type": "execute_result"
    }
   ],
   "source": [
    "word2vec_model.wv.most_similar('creepi')"
   ]
  },
  {
   "cell_type": "code",
   "execution_count": 34,
   "metadata": {
    "ExecuteTime": {
     "end_time": "2020-04-20T01:19:36.194536Z",
     "start_time": "2020-04-20T01:19:36.157556Z"
    }
   },
   "outputs": [
    {
     "data": {
      "text/plain": [
       "0.19047758"
      ]
     },
     "execution_count": 34,
     "metadata": {},
     "output_type": "execute_result"
    }
   ],
   "source": [
    "# compute the cosine similarity between the two specified words using word vectors (embeddings)\n",
    "word2vec_model.wv.similarity(w1=\"childish\", w2=\"roam\")"
   ]
  },
  {
   "cell_type": "code",
   "execution_count": 54,
   "metadata": {
    "ExecuteTime": {
     "end_time": "2020-04-26T19:40:23.942120Z",
     "start_time": "2020-04-26T19:40:17.479544Z"
    }
   },
   "outputs": [],
   "source": [
    "def doc_vec(doc):\n",
    "    \"\"\"Create document vectors by averaging word vectors. Remove out-of-vocabulary words.\"\"\"\n",
    "    doc = [word for word in doc if word in word2vec_model.wv.vocab]\n",
    "    try:\n",
    "        return np.mean(word2vec_model.wv[doc], axis=0)\n",
    "    except ValueError:\n",
    "        return np.zeros(150)\n",
    "\n",
    "# prepare train data\n",
    "X_train_word2vec = list(stemmed_train_review.apply(doc_vec))\n",
    "train_copy = df_steam.drop([\"tags\", \"review_id\", \"user_review\", 'user_suggestion', \n",
    "                           \"overview\", 'developer'], 1)\n",
    "X_train = pd.concat([pd.DataFrame(X_train_word2vec), df_tags, train_copy], axis=1)\n",
    "\n",
    "# prepare test data\n",
    "X_test_word2vec = list(stemmed_test_review.apply(doc_vec))\n",
    "test_copy = df_test.drop([\"tags\", \"review_id\", \"user_review\",'user_suggestion', \"overview\", 'developer'], 1)\n",
    "X_test = pd.concat([pd.DataFrame(X_test_word2vec), df_test_tags, test_copy], axis=1)\n",
    "\n",
    "y_train = df_steam[\"user_suggestion\"]"
   ]
  },
  {
   "cell_type": "code",
   "execution_count": 55,
   "metadata": {
    "ExecuteTime": {
     "end_time": "2020-04-26T19:41:10.025099Z",
     "start_time": "2020-04-26T19:41:09.653062Z"
    }
   },
   "outputs": [],
   "source": [
    "# drop nan values\n",
    "X_train = pd.concat([X_train, y_train], axis=1).dropna()\n",
    "y_train = X_train[\"user_suggestion\"]\n",
    "X_train = X_train.drop(\"user_suggestion\", 1)\n",
    "X_test = X_test.dropna()"
   ]
  },
  {
   "cell_type": "markdown",
   "metadata": {},
   "source": [
    "## Machine learning model "
   ]
  },
  {
   "cell_type": "code",
   "execution_count": 56,
   "metadata": {
    "ExecuteTime": {
     "end_time": "2020-04-26T19:46:34.149166Z",
     "start_time": "2020-04-26T19:41:15.376219Z"
    }
   },
   "outputs": [
    {
     "name": "stdout",
     "output_type": "stream",
     "text": [
      "The in-sample accuracy score of SVM is:  0.570974820974821\n"
     ]
    }
   ],
   "source": [
    "clf = svm.SVC()\n",
    "clf.fit(X_train, y_train)\n",
    "\n",
    "# predicting the test set results\n",
    "y_pred_svm = clf.predict(X_test)\n",
    "\n",
    "print(\"The in-sample accuracy score of SVM is: \",clf.score(X_train, y_train))"
   ]
  },
  {
   "cell_type": "code",
   "execution_count": 62,
   "metadata": {
    "ExecuteTime": {
     "end_time": "2020-04-26T20:07:23.010397Z",
     "start_time": "2020-04-26T20:07:09.723691Z"
    }
   },
   "outputs": [
    {
     "name": "stdout",
     "output_type": "stream",
     "text": [
      "The in-sample accuracy score of Logistic Regression is:  0.8355278355278355\n",
      "\n",
      "\n",
      "[1 0 1 ... 1 1 1]\n"
     ]
    }
   ],
   "source": [
    "logreg = LogisticRegression(max_iter=10000, random_state=0)\n",
    "logreg.fit(X_train, y_train)\n",
    "\n",
    "# predicting the test set results\n",
    "y_pred_logit = logreg.predict(X_test)\n",
    "\n",
    "print(\"The in-sample accuracy score of Logistic Regression is: \", \n",
    "                              logreg.score(X_train, y_train))\n",
    "print(\"\\n\")\n",
    "print(y_pred_logit)"
   ]
  },
  {
   "cell_type": "code",
   "execution_count": 59,
   "metadata": {
    "ExecuteTime": {
     "end_time": "2020-04-26T19:48:22.880767Z",
     "start_time": "2020-04-26T19:48:22.860226Z"
    }
   },
   "outputs": [
    {
     "data": {
      "text/html": [
       "<div>\n",
       "<style scoped>\n",
       "    .dataframe tbody tr th:only-of-type {\n",
       "        vertical-align: middle;\n",
       "    }\n",
       "\n",
       "    .dataframe tbody tr th {\n",
       "        vertical-align: top;\n",
       "    }\n",
       "\n",
       "    .dataframe thead th {\n",
       "        text-align: right;\n",
       "    }\n",
       "</style>\n",
       "<table border=\"1\" class=\"dataframe\">\n",
       "  <thead>\n",
       "    <tr style=\"text-align: right;\">\n",
       "      <th></th>\n",
       "      <th>review_id</th>\n",
       "      <th>title</th>\n",
       "      <th>year</th>\n",
       "      <th>user_review</th>\n",
       "      <th>0</th>\n",
       "    </tr>\n",
       "  </thead>\n",
       "  <tbody>\n",
       "    <tr>\n",
       "      <td>0</td>\n",
       "      <td>1603</td>\n",
       "      <td>Counter-Strike: Global Offensive</td>\n",
       "      <td>2015.0</td>\n",
       "      <td>Nice graphics, new maps, weapons and models. B...</td>\n",
       "      <td>1.0</td>\n",
       "    </tr>\n",
       "    <tr>\n",
       "      <td>1</td>\n",
       "      <td>1604</td>\n",
       "      <td>Counter-Strike: Global Offensive</td>\n",
       "      <td>2018.0</td>\n",
       "      <td>I would not recommend getting into this at its...</td>\n",
       "      <td>1.0</td>\n",
       "    </tr>\n",
       "    <tr>\n",
       "      <td>2</td>\n",
       "      <td>1605</td>\n",
       "      <td>Counter-Strike: Global Offensive</td>\n",
       "      <td>2018.0</td>\n",
       "      <td>Edit 11/12/18I have tried playing CS:GO recent...</td>\n",
       "      <td>1.0</td>\n",
       "    </tr>\n",
       "  </tbody>\n",
       "</table>\n",
       "</div>"
      ],
      "text/plain": [
       "   review_id                             title    year  \\\n",
       "0       1603  Counter-Strike: Global Offensive  2015.0   \n",
       "1       1604  Counter-Strike: Global Offensive  2018.0   \n",
       "2       1605  Counter-Strike: Global Offensive  2018.0   \n",
       "\n",
       "                                         user_review    0  \n",
       "0  Nice graphics, new maps, weapons and models. B...  1.0  \n",
       "1  I would not recommend getting into this at its...  1.0  \n",
       "2  Edit 11/12/18I have tried playing CS:GO recent...  1.0  "
      ]
     },
     "execution_count": 59,
     "metadata": {},
     "output_type": "execute_result"
    }
   ],
   "source": [
    "df_final1 = pd.concat([steam_test, pd.DataFrame(y_pred_svm)], axis=1)\n",
    "df_final1.head(3)"
   ]
  },
  {
   "cell_type": "code",
   "execution_count": 63,
   "metadata": {
    "ExecuteTime": {
     "end_time": "2020-04-26T20:07:33.004096Z",
     "start_time": "2020-04-26T20:07:32.965427Z"
    }
   },
   "outputs": [
    {
     "data": {
      "text/html": [
       "<div>\n",
       "<style scoped>\n",
       "    .dataframe tbody tr th:only-of-type {\n",
       "        vertical-align: middle;\n",
       "    }\n",
       "\n",
       "    .dataframe tbody tr th {\n",
       "        vertical-align: top;\n",
       "    }\n",
       "\n",
       "    .dataframe thead th {\n",
       "        text-align: right;\n",
       "    }\n",
       "</style>\n",
       "<table border=\"1\" class=\"dataframe\">\n",
       "  <thead>\n",
       "    <tr style=\"text-align: right;\">\n",
       "      <th></th>\n",
       "      <th>review_id</th>\n",
       "      <th>title</th>\n",
       "      <th>year</th>\n",
       "      <th>user_review</th>\n",
       "      <th>0</th>\n",
       "    </tr>\n",
       "  </thead>\n",
       "  <tbody>\n",
       "    <tr>\n",
       "      <td>0</td>\n",
       "      <td>1603</td>\n",
       "      <td>Counter-Strike: Global Offensive</td>\n",
       "      <td>2015.0</td>\n",
       "      <td>Nice graphics, new maps, weapons and models. B...</td>\n",
       "      <td>1.0</td>\n",
       "    </tr>\n",
       "    <tr>\n",
       "      <td>1</td>\n",
       "      <td>1604</td>\n",
       "      <td>Counter-Strike: Global Offensive</td>\n",
       "      <td>2018.0</td>\n",
       "      <td>I would not recommend getting into this at its...</td>\n",
       "      <td>0.0</td>\n",
       "    </tr>\n",
       "    <tr>\n",
       "      <td>2</td>\n",
       "      <td>1605</td>\n",
       "      <td>Counter-Strike: Global Offensive</td>\n",
       "      <td>2018.0</td>\n",
       "      <td>Edit 11/12/18I have tried playing CS:GO recent...</td>\n",
       "      <td>1.0</td>\n",
       "    </tr>\n",
       "  </tbody>\n",
       "</table>\n",
       "</div>"
      ],
      "text/plain": [
       "   review_id                             title    year  \\\n",
       "0       1603  Counter-Strike: Global Offensive  2015.0   \n",
       "1       1604  Counter-Strike: Global Offensive  2018.0   \n",
       "2       1605  Counter-Strike: Global Offensive  2018.0   \n",
       "\n",
       "                                         user_review    0  \n",
       "0  Nice graphics, new maps, weapons and models. B...  1.0  \n",
       "1  I would not recommend getting into this at its...  0.0  \n",
       "2  Edit 11/12/18I have tried playing CS:GO recent...  1.0  "
      ]
     },
     "execution_count": 63,
     "metadata": {},
     "output_type": "execute_result"
    }
   ],
   "source": [
    "df_final2 = pd.concat([steam_test, pd.DataFrame(y_pred_logit)], axis=1)\n",
    "df_final2.head(3)"
   ]
  },
  {
   "cell_type": "code",
   "execution_count": null,
   "metadata": {},
   "outputs": [],
   "source": []
  }
 ],
 "metadata": {
  "kernelspec": {
   "display_name": "Python 3",
   "language": "python",
   "name": "python3"
  },
  "language_info": {
   "codemirror_mode": {
    "name": "ipython",
    "version": 3
   },
   "file_extension": ".py",
   "mimetype": "text/x-python",
   "name": "python",
   "nbconvert_exporter": "python",
   "pygments_lexer": "ipython3",
   "version": "3.7.4"
  },
  "toc": {
   "base_numbering": 1,
   "nav_menu": {},
   "number_sections": true,
   "sideBar": true,
   "skip_h1_title": false,
   "title_cell": "Table of Contents",
   "title_sidebar": "Contents",
   "toc_cell": false,
   "toc_position": {
    "height": "calc(100% - 180px)",
    "left": "10px",
    "top": "150px",
    "width": "165px"
   },
   "toc_section_display": true,
   "toc_window_display": true
  },
  "varInspector": {
   "cols": {
    "lenName": 16,
    "lenType": 16,
    "lenVar": 40
   },
   "kernels_config": {
    "python": {
     "delete_cmd_postfix": "",
     "delete_cmd_prefix": "del ",
     "library": "var_list.py",
     "varRefreshCmd": "print(var_dic_list())"
    },
    "r": {
     "delete_cmd_postfix": ") ",
     "delete_cmd_prefix": "rm(",
     "library": "var_list.r",
     "varRefreshCmd": "cat(var_dic_list()) "
    }
   },
   "types_to_exclude": [
    "module",
    "function",
    "builtin_function_or_method",
    "instance",
    "_Feature"
   ],
   "window_display": false
  }
 },
 "nbformat": 4,
 "nbformat_minor": 2
}
