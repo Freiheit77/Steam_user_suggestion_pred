{
 "cells": [
  {
   "cell_type": "markdown",
   "metadata": {},
   "source": [
    "# Steam User Suggestion Prediction "
   ]
  },
  {
   "cell_type": "markdown",
   "metadata": {},
   "source": [
    "***This code script used steam review data to predict user suggestion.***"
   ]
  },
  {
   "cell_type": "code",
   "execution_count": 1,
   "metadata": {
    "ExecuteTime": {
     "end_time": "2020-04-26T17:45:09.580512Z",
     "start_time": "2020-04-26T17:45:05.712360Z"
    }
   },
   "outputs": [],
   "source": [
    "# load packages\n",
    "import pandas as pd  \n",
    "import numpy as np\n",
    "import matplotlib.pyplot as plt\n",
    "import seaborn as sns\n",
    "import ast\n",
    "# nlp \n",
    "import nltk \n",
    "from nltk.tokenize import word_tokenize\n",
    "from nltk.corpus import stopwords\n",
    "from nltk.stem import PorterStemmer\n",
    "import string\n",
    "from sklearn.feature_extraction.text import CountVectorizer\n",
    "# word embedding\n",
    "import gensim \n",
    "from gensim.models import Word2Vec\n",
    "# sentiment\n",
    "from textblob import TextBlob\n",
    "# machine learning\n",
    "from sklearn.linear_model import LogisticRegression\n",
    "from sklearn import svm\n",
    "from sklearn.ensemble import RandomForestRegressor\n",
    "from sklearn import metrics\n",
    "from sklearn.metrics import r2_score"
   ]
  },
  {
   "cell_type": "markdown",
   "metadata": {},
   "source": [
    "## Load dataset"
   ]
  },
  {
   "cell_type": "code",
   "execution_count": 2,
   "metadata": {
    "ExecuteTime": {
     "end_time": "2020-04-26T17:45:12.030315Z",
     "start_time": "2020-04-26T17:45:11.775626Z"
    }
   },
   "outputs": [],
   "source": [
    "steam_train = pd.read_csv(\"train.csv\")\n",
    "overview = pd.read_csv(\"game_overview.csv\")\n",
    "steam_test = pd.read_csv(\"test.csv\")"
   ]
  },
  {
   "cell_type": "code",
   "execution_count": 3,
   "metadata": {
    "ExecuteTime": {
     "end_time": "2020-04-19T23:18:50.928505Z",
     "start_time": "2020-04-19T23:18:50.911086Z"
    }
   },
   "outputs": [
    {
     "data": {
      "text/html": [
       "<div>\n",
       "<style scoped>\n",
       "    .dataframe tbody tr th:only-of-type {\n",
       "        vertical-align: middle;\n",
       "    }\n",
       "\n",
       "    .dataframe tbody tr th {\n",
       "        vertical-align: top;\n",
       "    }\n",
       "\n",
       "    .dataframe thead th {\n",
       "        text-align: right;\n",
       "    }\n",
       "</style>\n",
       "<table border=\"1\" class=\"dataframe\">\n",
       "  <thead>\n",
       "    <tr style=\"text-align: right;\">\n",
       "      <th></th>\n",
       "      <th>review_id</th>\n",
       "      <th>title</th>\n",
       "      <th>year</th>\n",
       "      <th>user_review</th>\n",
       "      <th>user_suggestion</th>\n",
       "    </tr>\n",
       "  </thead>\n",
       "  <tbody>\n",
       "    <tr>\n",
       "      <td>0</td>\n",
       "      <td>1</td>\n",
       "      <td>Spooky's Jump Scare Mansion</td>\n",
       "      <td>2016.0</td>\n",
       "      <td>I'm scared and hearing creepy voices.  So I'll...</td>\n",
       "      <td>1</td>\n",
       "    </tr>\n",
       "    <tr>\n",
       "      <td>1</td>\n",
       "      <td>2</td>\n",
       "      <td>Spooky's Jump Scare Mansion</td>\n",
       "      <td>2016.0</td>\n",
       "      <td>Best game, more better than Sam Pepper's YouTu...</td>\n",
       "      <td>1</td>\n",
       "    </tr>\n",
       "    <tr>\n",
       "      <td>2</td>\n",
       "      <td>3</td>\n",
       "      <td>Spooky's Jump Scare Mansion</td>\n",
       "      <td>2016.0</td>\n",
       "      <td>A littly iffy on the controls, but once you kn...</td>\n",
       "      <td>1</td>\n",
       "    </tr>\n",
       "  </tbody>\n",
       "</table>\n",
       "</div>"
      ],
      "text/plain": [
       "   review_id                        title    year  \\\n",
       "0          1  Spooky's Jump Scare Mansion  2016.0   \n",
       "1          2  Spooky's Jump Scare Mansion  2016.0   \n",
       "2          3  Spooky's Jump Scare Mansion  2016.0   \n",
       "\n",
       "                                         user_review  user_suggestion  \n",
       "0  I'm scared and hearing creepy voices.  So I'll...                1  \n",
       "1  Best game, more better than Sam Pepper's YouTu...                1  \n",
       "2  A littly iffy on the controls, but once you kn...                1  "
      ]
     },
     "execution_count": 3,
     "metadata": {},
     "output_type": "execute_result"
    }
   ],
   "source": [
    "steam_train.head(3)"
   ]
  },
  {
   "cell_type": "code",
   "execution_count": 4,
   "metadata": {
    "ExecuteTime": {
     "end_time": "2020-04-19T23:18:53.072374Z",
     "start_time": "2020-04-19T23:18:53.054213Z"
    },
    "scrolled": true
   },
   "outputs": [
    {
     "data": {
      "text/html": [
       "<div>\n",
       "<style scoped>\n",
       "    .dataframe tbody tr th:only-of-type {\n",
       "        vertical-align: middle;\n",
       "    }\n",
       "\n",
       "    .dataframe tbody tr th {\n",
       "        vertical-align: top;\n",
       "    }\n",
       "\n",
       "    .dataframe thead th {\n",
       "        text-align: right;\n",
       "    }\n",
       "</style>\n",
       "<table border=\"1\" class=\"dataframe\">\n",
       "  <thead>\n",
       "    <tr style=\"text-align: right;\">\n",
       "      <th></th>\n",
       "      <th>title</th>\n",
       "      <th>developer</th>\n",
       "      <th>publisher</th>\n",
       "      <th>tags</th>\n",
       "      <th>overview</th>\n",
       "    </tr>\n",
       "  </thead>\n",
       "  <tbody>\n",
       "    <tr>\n",
       "      <td>0</td>\n",
       "      <td>Spooky's Jump Scare Mansion</td>\n",
       "      <td>Lag Studios</td>\n",
       "      <td>Lag Studios</td>\n",
       "      <td>['Horror', 'Free to Play', 'Cute', 'First-Pers...</td>\n",
       "      <td>Can you survive 1000 rooms of cute terror? Or ...</td>\n",
       "    </tr>\n",
       "    <tr>\n",
       "      <td>1</td>\n",
       "      <td>Sakura Clicker</td>\n",
       "      <td>Winged Cloud</td>\n",
       "      <td>Winged Cloud</td>\n",
       "      <td>['Nudity', 'Anime', 'Free to Play', 'Mature', ...</td>\n",
       "      <td>The latest entry in the Sakura series is more ...</td>\n",
       "    </tr>\n",
       "    <tr>\n",
       "      <td>2</td>\n",
       "      <td>WARMODE</td>\n",
       "      <td>WARTEAM</td>\n",
       "      <td>WARTEAM</td>\n",
       "      <td>['Early Access', 'Free to Play', 'FPS', 'Multi...</td>\n",
       "      <td>Free to play shooter about the confrontation o...</td>\n",
       "    </tr>\n",
       "  </tbody>\n",
       "</table>\n",
       "</div>"
      ],
      "text/plain": [
       "                         title      developer      publisher  \\\n",
       "0  Spooky's Jump Scare Mansion   Lag Studios    Lag Studios    \n",
       "1               Sakura Clicker  Winged Cloud   Winged Cloud    \n",
       "2                      WARMODE       WARTEAM        WARTEAM    \n",
       "\n",
       "                                                tags  \\\n",
       "0  ['Horror', 'Free to Play', 'Cute', 'First-Pers...   \n",
       "1  ['Nudity', 'Anime', 'Free to Play', 'Mature', ...   \n",
       "2  ['Early Access', 'Free to Play', 'FPS', 'Multi...   \n",
       "\n",
       "                                            overview  \n",
       "0  Can you survive 1000 rooms of cute terror? Or ...  \n",
       "1  The latest entry in the Sakura series is more ...  \n",
       "2  Free to play shooter about the confrontation o...  "
      ]
     },
     "execution_count": 4,
     "metadata": {},
     "output_type": "execute_result"
    }
   ],
   "source": [
    "overview.head(3)"
   ]
  },
  {
   "cell_type": "code",
   "execution_count": 3,
   "metadata": {
    "ExecuteTime": {
     "end_time": "2020-04-26T17:45:14.814147Z",
     "start_time": "2020-04-26T17:45:14.785280Z"
    }
   },
   "outputs": [
    {
     "data": {
      "text/html": [
       "<div>\n",
       "<style scoped>\n",
       "    .dataframe tbody tr th:only-of-type {\n",
       "        vertical-align: middle;\n",
       "    }\n",
       "\n",
       "    .dataframe tbody tr th {\n",
       "        vertical-align: top;\n",
       "    }\n",
       "\n",
       "    .dataframe thead th {\n",
       "        text-align: right;\n",
       "    }\n",
       "</style>\n",
       "<table border=\"1\" class=\"dataframe\">\n",
       "  <thead>\n",
       "    <tr style=\"text-align: right;\">\n",
       "      <th></th>\n",
       "      <th>review_id</th>\n",
       "      <th>title</th>\n",
       "      <th>year</th>\n",
       "      <th>user_review</th>\n",
       "      <th>user_suggestion</th>\n",
       "      <th>developer</th>\n",
       "      <th>publisher</th>\n",
       "      <th>tags</th>\n",
       "      <th>overview</th>\n",
       "    </tr>\n",
       "  </thead>\n",
       "  <tbody>\n",
       "    <tr>\n",
       "      <td>0</td>\n",
       "      <td>1</td>\n",
       "      <td>Spooky's Jump Scare Mansion</td>\n",
       "      <td>2016.0</td>\n",
       "      <td>I'm scared and hearing creepy voices.  So I'll...</td>\n",
       "      <td>1</td>\n",
       "      <td>Lag Studios</td>\n",
       "      <td>Lag Studios</td>\n",
       "      <td>['Horror', 'Free to Play', 'Cute', 'First-Pers...</td>\n",
       "      <td>Can you survive 1000 rooms of cute terror? Or ...</td>\n",
       "    </tr>\n",
       "    <tr>\n",
       "      <td>1</td>\n",
       "      <td>2</td>\n",
       "      <td>Spooky's Jump Scare Mansion</td>\n",
       "      <td>2016.0</td>\n",
       "      <td>Best game, more better than Sam Pepper's YouTu...</td>\n",
       "      <td>1</td>\n",
       "      <td>Lag Studios</td>\n",
       "      <td>Lag Studios</td>\n",
       "      <td>['Horror', 'Free to Play', 'Cute', 'First-Pers...</td>\n",
       "      <td>Can you survive 1000 rooms of cute terror? Or ...</td>\n",
       "    </tr>\n",
       "    <tr>\n",
       "      <td>2</td>\n",
       "      <td>3</td>\n",
       "      <td>Spooky's Jump Scare Mansion</td>\n",
       "      <td>2016.0</td>\n",
       "      <td>A littly iffy on the controls, but once you kn...</td>\n",
       "      <td>1</td>\n",
       "      <td>Lag Studios</td>\n",
       "      <td>Lag Studios</td>\n",
       "      <td>['Horror', 'Free to Play', 'Cute', 'First-Pers...</td>\n",
       "      <td>Can you survive 1000 rooms of cute terror? Or ...</td>\n",
       "    </tr>\n",
       "  </tbody>\n",
       "</table>\n",
       "</div>"
      ],
      "text/plain": [
       "   review_id                        title    year  \\\n",
       "0          1  Spooky's Jump Scare Mansion  2016.0   \n",
       "1          2  Spooky's Jump Scare Mansion  2016.0   \n",
       "2          3  Spooky's Jump Scare Mansion  2016.0   \n",
       "\n",
       "                                         user_review  user_suggestion  \\\n",
       "0  I'm scared and hearing creepy voices.  So I'll...                1   \n",
       "1  Best game, more better than Sam Pepper's YouTu...                1   \n",
       "2  A littly iffy on the controls, but once you kn...                1   \n",
       "\n",
       "      developer     publisher  \\\n",
       "0  Lag Studios   Lag Studios    \n",
       "1  Lag Studios   Lag Studios    \n",
       "2  Lag Studios   Lag Studios    \n",
       "\n",
       "                                                tags  \\\n",
       "0  ['Horror', 'Free to Play', 'Cute', 'First-Pers...   \n",
       "1  ['Horror', 'Free to Play', 'Cute', 'First-Pers...   \n",
       "2  ['Horror', 'Free to Play', 'Cute', 'First-Pers...   \n",
       "\n",
       "                                            overview  \n",
       "0  Can you survive 1000 rooms of cute terror? Or ...  \n",
       "1  Can you survive 1000 rooms of cute terror? Or ...  \n",
       "2  Can you survive 1000 rooms of cute terror? Or ...  "
      ]
     },
     "execution_count": 3,
     "metadata": {},
     "output_type": "execute_result"
    }
   ],
   "source": [
    "# join train data with overview data\n",
    "df_steam = pd.merge(steam_train, overview, how='left', on='title')\n",
    "df_steam.head(3)"
   ]
  },
  {
   "cell_type": "code",
   "execution_count": 4,
   "metadata": {
    "ExecuteTime": {
     "end_time": "2020-04-26T17:45:15.984997Z",
     "start_time": "2020-04-26T17:45:15.962898Z"
    }
   },
   "outputs": [
    {
     "data": {
      "text/html": [
       "<div>\n",
       "<style scoped>\n",
       "    .dataframe tbody tr th:only-of-type {\n",
       "        vertical-align: middle;\n",
       "    }\n",
       "\n",
       "    .dataframe tbody tr th {\n",
       "        vertical-align: top;\n",
       "    }\n",
       "\n",
       "    .dataframe thead th {\n",
       "        text-align: right;\n",
       "    }\n",
       "</style>\n",
       "<table border=\"1\" class=\"dataframe\">\n",
       "  <thead>\n",
       "    <tr style=\"text-align: right;\">\n",
       "      <th></th>\n",
       "      <th>review_id</th>\n",
       "      <th>title</th>\n",
       "      <th>year</th>\n",
       "      <th>user_review</th>\n",
       "      <th>developer</th>\n",
       "      <th>publisher</th>\n",
       "      <th>tags</th>\n",
       "      <th>overview</th>\n",
       "    </tr>\n",
       "  </thead>\n",
       "  <tbody>\n",
       "    <tr>\n",
       "      <td>0</td>\n",
       "      <td>1603</td>\n",
       "      <td>Counter-Strike: Global Offensive</td>\n",
       "      <td>2015.0</td>\n",
       "      <td>Nice graphics, new maps, weapons and models. B...</td>\n",
       "      <td>Valve, Hidden Path Entertainment</td>\n",
       "      <td>Valve</td>\n",
       "      <td>['FPS', 'Multiplayer', 'Shooter', 'Action', 'T...</td>\n",
       "      <td>Counter-Strike: Global Offensive (CS: GO) expa...</td>\n",
       "    </tr>\n",
       "    <tr>\n",
       "      <td>1</td>\n",
       "      <td>1604</td>\n",
       "      <td>Counter-Strike: Global Offensive</td>\n",
       "      <td>2018.0</td>\n",
       "      <td>I would not recommend getting into this at its...</td>\n",
       "      <td>Valve, Hidden Path Entertainment</td>\n",
       "      <td>Valve</td>\n",
       "      <td>['FPS', 'Multiplayer', 'Shooter', 'Action', 'T...</td>\n",
       "      <td>Counter-Strike: Global Offensive (CS: GO) expa...</td>\n",
       "    </tr>\n",
       "    <tr>\n",
       "      <td>2</td>\n",
       "      <td>1605</td>\n",
       "      <td>Counter-Strike: Global Offensive</td>\n",
       "      <td>2018.0</td>\n",
       "      <td>Edit 11/12/18I have tried playing CS:GO recent...</td>\n",
       "      <td>Valve, Hidden Path Entertainment</td>\n",
       "      <td>Valve</td>\n",
       "      <td>['FPS', 'Multiplayer', 'Shooter', 'Action', 'T...</td>\n",
       "      <td>Counter-Strike: Global Offensive (CS: GO) expa...</td>\n",
       "    </tr>\n",
       "  </tbody>\n",
       "</table>\n",
       "</div>"
      ],
      "text/plain": [
       "   review_id                             title    year  \\\n",
       "0       1603  Counter-Strike: Global Offensive  2015.0   \n",
       "1       1604  Counter-Strike: Global Offensive  2018.0   \n",
       "2       1605  Counter-Strike: Global Offensive  2018.0   \n",
       "\n",
       "                                         user_review  \\\n",
       "0  Nice graphics, new maps, weapons and models. B...   \n",
       "1  I would not recommend getting into this at its...   \n",
       "2  Edit 11/12/18I have tried playing CS:GO recent...   \n",
       "\n",
       "                           developer publisher  \\\n",
       "0  Valve, Hidden Path Entertainment     Valve    \n",
       "1  Valve, Hidden Path Entertainment     Valve    \n",
       "2  Valve, Hidden Path Entertainment     Valve    \n",
       "\n",
       "                                                tags  \\\n",
       "0  ['FPS', 'Multiplayer', 'Shooter', 'Action', 'T...   \n",
       "1  ['FPS', 'Multiplayer', 'Shooter', 'Action', 'T...   \n",
       "2  ['FPS', 'Multiplayer', 'Shooter', 'Action', 'T...   \n",
       "\n",
       "                                            overview  \n",
       "0  Counter-Strike: Global Offensive (CS: GO) expa...  \n",
       "1  Counter-Strike: Global Offensive (CS: GO) expa...  \n",
       "2  Counter-Strike: Global Offensive (CS: GO) expa...  "
      ]
     },
     "execution_count": 4,
     "metadata": {},
     "output_type": "execute_result"
    }
   ],
   "source": [
    "# join test data with overview data\n",
    "df_test = pd.merge(steam_test, overview, how='left', on='title')\n",
    "df_test.head(3)"
   ]
  },
  {
   "cell_type": "markdown",
   "metadata": {},
   "source": [
    "## Feature engineering"
   ]
  },
  {
   "cell_type": "markdown",
   "metadata": {},
   "source": [
    "### separate tags "
   ]
  },
  {
   "cell_type": "code",
   "execution_count": 5,
   "metadata": {
    "ExecuteTime": {
     "end_time": "2020-04-26T17:45:21.538128Z",
     "start_time": "2020-04-26T17:45:20.165325Z"
    }
   },
   "outputs": [
    {
     "data": {
      "text/html": [
       "<div>\n",
       "<style scoped>\n",
       "    .dataframe tbody tr th:only-of-type {\n",
       "        vertical-align: middle;\n",
       "    }\n",
       "\n",
       "    .dataframe tbody tr th {\n",
       "        vertical-align: top;\n",
       "    }\n",
       "\n",
       "    .dataframe thead th {\n",
       "        text-align: right;\n",
       "    }\n",
       "</style>\n",
       "<table border=\"1\" class=\"dataframe\">\n",
       "  <thead>\n",
       "    <tr style=\"text-align: right;\">\n",
       "      <th></th>\n",
       "      <th>horror</th>\n",
       "      <th>free</th>\n",
       "      <th>to</th>\n",
       "      <th>play</th>\n",
       "      <th>cute</th>\n",
       "      <th>first</th>\n",
       "      <th>person</th>\n",
       "      <th>singleplayer</th>\n",
       "      <th>psychological</th>\n",
       "      <th>indie</th>\n",
       "      <th>...</th>\n",
       "      <th>resource</th>\n",
       "      <th>gun</th>\n",
       "      <th>education</th>\n",
       "      <th>puzzle</th>\n",
       "      <th>america</th>\n",
       "      <th>masterpiece</th>\n",
       "      <th>family</th>\n",
       "      <th>friendly</th>\n",
       "      <th>mod</th>\n",
       "      <th>classic</th>\n",
       "    </tr>\n",
       "  </thead>\n",
       "  <tbody>\n",
       "    <tr>\n",
       "      <td>0</td>\n",
       "      <td>0</td>\n",
       "      <td>0</td>\n",
       "      <td>0</td>\n",
       "      <td>1</td>\n",
       "      <td>1</td>\n",
       "      <td>0</td>\n",
       "      <td>0</td>\n",
       "      <td>1</td>\n",
       "      <td>0</td>\n",
       "      <td>0</td>\n",
       "      <td>...</td>\n",
       "      <td>0</td>\n",
       "      <td>0</td>\n",
       "      <td>0</td>\n",
       "      <td>0</td>\n",
       "      <td>0</td>\n",
       "      <td>0</td>\n",
       "      <td>1</td>\n",
       "      <td>0</td>\n",
       "      <td>0</td>\n",
       "      <td>0</td>\n",
       "    </tr>\n",
       "    <tr>\n",
       "      <td>1</td>\n",
       "      <td>0</td>\n",
       "      <td>0</td>\n",
       "      <td>0</td>\n",
       "      <td>1</td>\n",
       "      <td>1</td>\n",
       "      <td>0</td>\n",
       "      <td>0</td>\n",
       "      <td>1</td>\n",
       "      <td>0</td>\n",
       "      <td>0</td>\n",
       "      <td>...</td>\n",
       "      <td>0</td>\n",
       "      <td>0</td>\n",
       "      <td>0</td>\n",
       "      <td>0</td>\n",
       "      <td>0</td>\n",
       "      <td>0</td>\n",
       "      <td>1</td>\n",
       "      <td>0</td>\n",
       "      <td>0</td>\n",
       "      <td>0</td>\n",
       "    </tr>\n",
       "    <tr>\n",
       "      <td>2</td>\n",
       "      <td>0</td>\n",
       "      <td>0</td>\n",
       "      <td>0</td>\n",
       "      <td>1</td>\n",
       "      <td>1</td>\n",
       "      <td>0</td>\n",
       "      <td>0</td>\n",
       "      <td>1</td>\n",
       "      <td>0</td>\n",
       "      <td>0</td>\n",
       "      <td>...</td>\n",
       "      <td>0</td>\n",
       "      <td>0</td>\n",
       "      <td>0</td>\n",
       "      <td>0</td>\n",
       "      <td>0</td>\n",
       "      <td>0</td>\n",
       "      <td>1</td>\n",
       "      <td>0</td>\n",
       "      <td>0</td>\n",
       "      <td>0</td>\n",
       "    </tr>\n",
       "  </tbody>\n",
       "</table>\n",
       "<p>3 rows × 162 columns</p>\n",
       "</div>"
      ],
      "text/plain": [
       "   horror  free  to  play  cute  first  person  singleplayer  psychological  \\\n",
       "0       0     0   0     1     1      0       0             1              0   \n",
       "1       0     0   0     1     1      0       0             1              0   \n",
       "2       0     0   0     1     1      0       0             1              0   \n",
       "\n",
       "   indie  ...  resource  gun  education  puzzle  america  masterpiece  family  \\\n",
       "0      0  ...         0    0          0       0        0            0       1   \n",
       "1      0  ...         0    0          0       0        0            0       1   \n",
       "2      0  ...         0    0          0       0        0            0       1   \n",
       "\n",
       "   friendly  mod  classic  \n",
       "0         0    0        0  \n",
       "1         0    0        0  \n",
       "2         0    0        0  \n",
       "\n",
       "[3 rows x 162 columns]"
      ]
     },
     "execution_count": 5,
     "metadata": {},
     "output_type": "execute_result"
    }
   ],
   "source": [
    "## train dataset\n",
    "# convert string object to list\n",
    "tags = df_steam[\"tags\"].apply(lambda x: ast.literal_eval(x))\n",
    "tags = tags.apply(lambda x: ','.join(x))\n",
    "\n",
    "# count unique tag frequency\n",
    "count_vec = CountVectorizer()\n",
    "tags = count_vec.fit_transform(tags)\n",
    "\n",
    "# create tag vector\n",
    "tags_vec = []\n",
    "for tag, idx in count_vec.vocabulary_.items():\n",
    "    tags_vec.append(tag)\n",
    "\n",
    "# create dataframe\n",
    "df_tags = pd.DataFrame(data=tags.todense(), columns=tags_vec)\n",
    "df_tags.head(3)"
   ]
  },
  {
   "cell_type": "code",
   "execution_count": 6,
   "metadata": {
    "ExecuteTime": {
     "end_time": "2020-04-26T17:45:23.944261Z",
     "start_time": "2020-04-26T17:45:23.381529Z"
    }
   },
   "outputs": [
    {
     "data": {
      "text/html": [
       "<div>\n",
       "<style scoped>\n",
       "    .dataframe tbody tr th:only-of-type {\n",
       "        vertical-align: middle;\n",
       "    }\n",
       "\n",
       "    .dataframe tbody tr th {\n",
       "        vertical-align: top;\n",
       "    }\n",
       "\n",
       "    .dataframe thead th {\n",
       "        text-align: right;\n",
       "    }\n",
       "</style>\n",
       "<table border=\"1\" class=\"dataframe\">\n",
       "  <thead>\n",
       "    <tr style=\"text-align: right;\">\n",
       "      <th></th>\n",
       "      <th>fps</th>\n",
       "      <th>multiplayer</th>\n",
       "      <th>shooter</th>\n",
       "      <th>action</th>\n",
       "      <th>team</th>\n",
       "      <th>based</th>\n",
       "      <th>competitive</th>\n",
       "      <th>tactical</th>\n",
       "      <th>first</th>\n",
       "      <th>person</th>\n",
       "      <th>...</th>\n",
       "      <th>book</th>\n",
       "      <th>magic</th>\n",
       "      <th>board</th>\n",
       "      <th>battle</th>\n",
       "      <th>royale</th>\n",
       "      <th>zombies</th>\n",
       "      <th>violent</th>\n",
       "      <th>walking</th>\n",
       "      <th>simulator</th>\n",
       "      <th>gore</th>\n",
       "    </tr>\n",
       "  </thead>\n",
       "  <tbody>\n",
       "    <tr>\n",
       "      <td>0</td>\n",
       "      <td>0</td>\n",
       "      <td>0</td>\n",
       "      <td>1</td>\n",
       "      <td>0</td>\n",
       "      <td>0</td>\n",
       "      <td>0</td>\n",
       "      <td>0</td>\n",
       "      <td>0</td>\n",
       "      <td>1</td>\n",
       "      <td>0</td>\n",
       "      <td>...</td>\n",
       "      <td>0</td>\n",
       "      <td>0</td>\n",
       "      <td>1</td>\n",
       "      <td>0</td>\n",
       "      <td>0</td>\n",
       "      <td>0</td>\n",
       "      <td>0</td>\n",
       "      <td>1</td>\n",
       "      <td>0</td>\n",
       "      <td>0</td>\n",
       "    </tr>\n",
       "    <tr>\n",
       "      <td>1</td>\n",
       "      <td>0</td>\n",
       "      <td>0</td>\n",
       "      <td>1</td>\n",
       "      <td>0</td>\n",
       "      <td>0</td>\n",
       "      <td>0</td>\n",
       "      <td>0</td>\n",
       "      <td>0</td>\n",
       "      <td>1</td>\n",
       "      <td>0</td>\n",
       "      <td>...</td>\n",
       "      <td>0</td>\n",
       "      <td>0</td>\n",
       "      <td>1</td>\n",
       "      <td>0</td>\n",
       "      <td>0</td>\n",
       "      <td>0</td>\n",
       "      <td>0</td>\n",
       "      <td>1</td>\n",
       "      <td>0</td>\n",
       "      <td>0</td>\n",
       "    </tr>\n",
       "    <tr>\n",
       "      <td>2</td>\n",
       "      <td>0</td>\n",
       "      <td>0</td>\n",
       "      <td>1</td>\n",
       "      <td>0</td>\n",
       "      <td>0</td>\n",
       "      <td>0</td>\n",
       "      <td>0</td>\n",
       "      <td>0</td>\n",
       "      <td>1</td>\n",
       "      <td>0</td>\n",
       "      <td>...</td>\n",
       "      <td>0</td>\n",
       "      <td>0</td>\n",
       "      <td>1</td>\n",
       "      <td>0</td>\n",
       "      <td>0</td>\n",
       "      <td>0</td>\n",
       "      <td>0</td>\n",
       "      <td>1</td>\n",
       "      <td>0</td>\n",
       "      <td>0</td>\n",
       "    </tr>\n",
       "  </tbody>\n",
       "</table>\n",
       "<p>3 rows × 123 columns</p>\n",
       "</div>"
      ],
      "text/plain": [
       "   fps  multiplayer  shooter  action  team  based  competitive  tactical  \\\n",
       "0    0            0        1       0     0      0            0         0   \n",
       "1    0            0        1       0     0      0            0         0   \n",
       "2    0            0        1       0     0      0            0         0   \n",
       "\n",
       "   first  person  ...  book  magic  board  battle  royale  zombies  violent  \\\n",
       "0      1       0  ...     0      0      1       0       0        0        0   \n",
       "1      1       0  ...     0      0      1       0       0        0        0   \n",
       "2      1       0  ...     0      0      1       0       0        0        0   \n",
       "\n",
       "   walking  simulator  gore  \n",
       "0        1          0     0  \n",
       "1        1          0     0  \n",
       "2        1          0     0  \n",
       "\n",
       "[3 rows x 123 columns]"
      ]
     },
     "execution_count": 6,
     "metadata": {},
     "output_type": "execute_result"
    }
   ],
   "source": [
    "## test dataset\n",
    "# convert string object to list\n",
    "test_tags = df_test[\"tags\"].apply(lambda x: ast.literal_eval(x))\n",
    "test_tags = test_tags.apply(lambda x: ','.join(x))\n",
    "\n",
    "# count unique tag frequency\n",
    "test_cv = CountVectorizer()\n",
    "test_tags = test_cv.fit_transform(test_tags)\n",
    "\n",
    "# create tag vector\n",
    "test_tags_vec = []\n",
    "for tag, idx in test_cv.vocabulary_.items():\n",
    "    test_tags_vec.append(tag)\n",
    "\n",
    "# create dataframe\n",
    "df_test_tags = pd.DataFrame(data=test_tags.todense(), columns=test_tags_vec)\n",
    "df_test_tags.head(3)"
   ]
  },
  {
   "cell_type": "code",
   "execution_count": 7,
   "metadata": {
    "ExecuteTime": {
     "end_time": "2020-04-26T17:45:25.948584Z",
     "start_time": "2020-04-26T17:45:25.916046Z"
    }
   },
   "outputs": [
    {
     "data": {
      "text/plain": [
       "(8045, 162)"
      ]
     },
     "execution_count": 7,
     "metadata": {},
     "output_type": "execute_result"
    }
   ],
   "source": [
    "# keep tags appearing both in train and test dataset, remove tags only appearing in the test dataset\n",
    "df_test_tags = df_test_tags[df_test_tags.columns.intersection(tags_vec)]\n",
    "feature_difference = set(df_tags) - set(df_test_tags)\n",
    "df_feature_difference = pd.DataFrame(data=np.zeros((df_test_tags.shape[0], \n",
    "                                                len(feature_difference))),\n",
    "                                 columns=list(feature_difference))\n",
    "df_test_tags = df_test_tags.join(df_feature_difference)\n",
    "df_test_tags.shape"
   ]
  },
  {
   "cell_type": "markdown",
   "metadata": {},
   "source": [
    "### Create title and publisher dummy "
   ]
  },
  {
   "cell_type": "code",
   "execution_count": 8,
   "metadata": {
    "ExecuteTime": {
     "end_time": "2020-04-26T17:45:43.393832Z",
     "start_time": "2020-04-26T17:45:43.286252Z"
    }
   },
   "outputs": [
    {
     "data": {
      "text/plain": [
       "(8045, 89)"
      ]
     },
     "execution_count": 8,
     "metadata": {},
     "output_type": "execute_result"
    }
   ],
   "source": [
    "factors = ['title', 'publisher']\n",
    "\n",
    "## train dataset\n",
    "for var in factors:\n",
    "    cat_list='var'+'_'+var\n",
    "    cat_list = pd.get_dummies(df_steam[var], prefix=var, drop_first=True)\n",
    "    df_steam = pd.concat([df_steam,cat_list], axis = 1)\n",
    "    df_steam = df_steam.drop(var, 1)\n",
    "    \n",
    "## test dataset\n",
    "for var in factors:\n",
    "    cat_list='var'+'_'+var\n",
    "    cat_list = pd.get_dummies(df_test[var], prefix=var, drop_first=True)\n",
    "    df_test = pd.concat([df_test,cat_list], axis = 1)\n",
    "    df_test = df_test.drop(var, 1)\n",
    "    \n",
    "    \n",
    "df_test = df_test[df_test.columns.intersection(df_steam.columns.values)]\n",
    "fd = set(df_steam) - set(df_test)\n",
    "df_fd = pd.DataFrame(data=np.zeros((df_test.shape[0], len(fd))),\n",
    "                                 columns=list(fd))\n",
    "df_test = df_test.join(df_fd)\n",
    "df_test.shape"
   ]
  },
  {
   "cell_type": "markdown",
   "metadata": {},
   "source": [
    "### Word tokenization"
   ]
  },
  {
   "cell_type": "code",
   "execution_count": 10,
   "metadata": {
    "ExecuteTime": {
     "end_time": "2020-04-26T17:46:58.995293Z",
     "start_time": "2020-04-26T17:46:04.762227Z"
    }
   },
   "outputs": [
    {
     "name": "stdout",
     "output_type": "stream",
     "text": [
      "0        [hear, creepi, paus, moment, write, review, wa...\n",
      "1        [best, game, better, sam, pepper, account, nee...\n",
      "2        [iffi, know, play, easi, master, made, floor, ...\n",
      "3        [great, game, fun, color, side, note, though, ...\n",
      "4        [mani, cute, tag, right, next, horror, tag, fi...\n",
      "                               ...                        \n",
      "17489    [singl, today, free, littl, competit, game, gr...\n",
      "17490    [older, game, sure, charm, special, place, hea...\n",
      "17491    [frist, amaz, still, great, friendli, matur, l...\n",
      "17492    [cool, game, thing, realli, ridabl, transport,...\n",
      "17493    [game, sinc, littl, alway, sinc, still, rememb...\n",
      "Name: user_review, Length: 17494, dtype: object\n"
     ]
    }
   ],
   "source": [
    "# convert text to lower case \n",
    "train_review = df_steam[\"user_review\"].str.lower()\n",
    "\n",
    "# remove numbers\n",
    "train_review = train_review.replace(\"\\d+\", '')\n",
    "\n",
    "# words Tokenization\n",
    "train_review = train_review.apply(word_tokenize)\n",
    "\n",
    "# remove non-English words\n",
    "engwords = set(nltk.corpus.words.words())\n",
    "train_review = train_review.apply(lambda x: [w for w in x if w in engwords])\n",
    "\n",
    "# remove punctuation\n",
    "punctuations = list(string.punctuation)\n",
    "train_review = train_review.apply(lambda x: \n",
    "            [i.strip(\"\".join(punctuations)) for i in x if i not in punctuations])\n",
    "\n",
    "# handle negations\n",
    "def handleNegations (text):\n",
    "    for i in range(len(text)-1):\n",
    "        if text[i] == \"not\":\n",
    "            text[i] == \"\"\n",
    "            text[i+1] ==\"not_\"+text[i+1]\n",
    "        elif \"n't\" in text[i]:\n",
    "            text[i] = text[i].replace(\"n't\", \"\")\n",
    "            text[i+1] = \"not_\"+text[i+1]\n",
    "        else: continue\n",
    "    return text\n",
    "\n",
    "train_review = train_review.apply(handleNegations)\n",
    "\n",
    "# remove stop words \n",
    "stop_words=set(stopwords.words(\"english\"))\n",
    "new_stop = ['http','www','com']\n",
    "stop_words.update(new_stop)\n",
    "train_review = train_review.apply(lambda x: [item for item in x if item not in stop_words])\n",
    "\n",
    "# stem words \n",
    "porter_stemmer = PorterStemmer()\n",
    "stemmed_train_review = train_review.apply(lambda x: [porter_stemmer.stem(y) for y in x])\n",
    "\n",
    "print(stemmed_train_review)"
   ]
  },
  {
   "cell_type": "code",
   "execution_count": 11,
   "metadata": {
    "ExecuteTime": {
     "end_time": "2020-04-26T17:47:26.423220Z",
     "start_time": "2020-04-26T17:47:03.326602Z"
    }
   },
   "outputs": [
    {
     "name": "stdout",
     "output_type": "stream",
     "text": [
      "0       [nice, graphic, new, listen, bit, much, import...\n",
      "1       [would, recommend, get, current, state, hit, r...\n",
      "2       [edit, tri, go, recent, dramat, gotten, wors, ...\n",
      "3       [game, great, commun, match, mayb, fine, time,...\n",
      "4       [thank, long, time, ago, would, play, around, ...\n",
      "                              ...                        \n",
      "8040    [earli, access, posit, good, idea, lot, fun, p...\n",
      "8041    [review, spend, money, would, seam, better, al...\n",
      "8042    [realli, get, except, bug, mean, stand, chanc,...\n",
      "8043    [sauci, suggest, life, new, tast, tower, defen...\n",
      "8044    [see, peopl, play, say, game, bad, side, see, ...\n",
      "Name: user_review, Length: 8045, dtype: object\n"
     ]
    }
   ],
   "source": [
    "# convert text to lower case \n",
    "test_review = df_test[\"user_review\"].str.lower()\n",
    "\n",
    "# remove numbers\n",
    "test_review = test_review.replace(\"\\d+\", '')\n",
    "\n",
    "# words Tokenization\n",
    "test_review = test_review.apply(word_tokenize)\n",
    "\n",
    "# remove non-English words\n",
    "test_review = test_review.apply(lambda x: [w for w in x if w in engwords])\n",
    "\n",
    "# remove punctuation\n",
    "test_review = test_review.apply(lambda x: \n",
    "            [i.strip(\"\".join(punctuations)) for i in x if i not in punctuations])\n",
    "\n",
    "# handle negations\n",
    "test_review = test_review.apply(handleNegations)\n",
    "\n",
    "# remove stop words \n",
    "test_review = test_review.apply(lambda x: [item for item in x if item not in stop_words])\n",
    "\n",
    "# stem words \n",
    "porterStemmer = PorterStemmer()\n",
    "stemmed_test_review = test_review.apply(lambda x: [porterStemmer.stem(y) for y in x])\n",
    "\n",
    "print(stemmed_test_review)"
   ]
  },
  {
   "cell_type": "markdown",
   "metadata": {},
   "source": [
    "### sentiment score and text length  "
   ]
  },
  {
   "cell_type": "code",
   "execution_count": 13,
   "metadata": {
    "ExecuteTime": {
     "end_time": "2020-04-26T17:49:31.324740Z",
     "start_time": "2020-04-26T17:49:09.797279Z"
    }
   },
   "outputs": [],
   "source": [
    "## train dataset\n",
    "\n",
    "# define function to get sentiment score\n",
    "def get_polarity (content):\n",
    "    score = TextBlob(content).sentiment.polarity\n",
    "    return score\n",
    "\n",
    "df_steam['reviewPolarity'] = stemmed_train_review.apply(lambda x:get_polarity(str(x)))\n",
    "df_steam['reviewLength'] = df_steam['user_review'].apply(lambda x:len(str(x)))"
   ]
  },
  {
   "cell_type": "code",
   "execution_count": 14,
   "metadata": {
    "ExecuteTime": {
     "end_time": "2020-04-26T17:49:48.215469Z",
     "start_time": "2020-04-26T17:49:38.592058Z"
    }
   },
   "outputs": [],
   "source": [
    "## test dataset\n",
    "df_test[\"reviewPolarity\"] = stemmed_test_review.apply(lambda x:get_polarity(str(x)))\n",
    "df_test[\"reviewLength\"] = df_test[\"user_review\"].apply(lambda x:len(str(x)))"
   ]
  },
  {
   "cell_type": "markdown",
   "metadata": {},
   "source": [
    "### Word2vec feature extraction "
   ]
  },
  {
   "cell_type": "code",
   "execution_count": 15,
   "metadata": {
    "ExecuteTime": {
     "end_time": "2020-04-26T17:50:00.569446Z",
     "start_time": "2020-04-26T17:49:50.681827Z"
    },
    "collapsed": true
   },
   "outputs": [
    {
     "name": "stdout",
     "output_type": "stream",
     "text": [
      "Word2Vec(vocab=5024, size=150, alpha=0.025)\n",
      "['hear', 'creepi', 'paus', 'moment', 'write', 'review', 'wait', 'heart', 'beat', 'return', 'somewhat', 'time', 'game', 'ador', 'like', 'happi', 'tree', 'graphic', 'childhood', 'bubbl', 'hello', 'tri', 'kill', 'bit', 'odd', 'though', 'oh', 'look', 'class', 'room', 'full', 'dead', 'shine', 'flashlight', 'stand', 'stare', 'music', 'turn', 'around', 'see', 'chase', 'afraid', 'find', 'lock', 'door', 'best', 'better', 'sam', 'pepper', 'account', 'need', 'play', 'extra', 'scari', 'forgot', 'mention', 'hell', 'get', 'consum', 'yet', 'iffi', 'know', 'easi', 'master', 'made', 'floor', 'due', 'certain', 'unabl', 'finish', 'relat', 'worri', 'highli', 'recommend', 'casual', 'mayb', 'friend', 'two', 'watch', 'hilar', 'especi', 'hit', 'fun', 'fellow', 'great', 'color', 'side', 'note', 'mode', 'comput', 'yeah', 'run', 'shame', 'realli', 'enjoy', 'guess', 'settl', 'mani', 'cute', 'tag', 'right', 'next', 'horror', 'first', 'late', 'come', 'back', 'sinc', 'good', 'free', 'take', 'advantag', 'experi', 'close', 'progress', 'becom', 'earli', 'access', 'pretti', 'later', 'specimen', 'still', 'worth', 'littl', 'sens', 'humor', 'sever', 'peopl', 'love', 'spooki', 'jump', 'scare', 'mansion', 'maze', 'death', 'work', 'win', 'took', 'wrong', 'somehow', 'keep', 'creatur', 'restart', 'differ', 'rout', 'sort', 'castl', 'doom', 'go', 'might', 'somewher', 'light', 'parodi', 'dark', 'hous', 'daunt', 'duti', 'surviv', 'one', 'thousand', 'endless', 'person', 'perspect', 'runner', 'thank', 'sprint', 'key', 'fact', 'new', 'even', 'feat', 'tedium', 'needless', 'repetit', 'everi', 'fifteen', 'interest', 'end', 'fifti', 'save', 'point', 'noth', 'perman', 'foul', 'live', 'surfac', 'clean', 'almost', 'cartoon', 'low', 'budget', 'charm', 'rare', 'form', 'cardboard', 'pop', 'wall', 'sound', 'silli', 'drive', 'spine', 'depart', 'use', 'ambient', 'foot', 'follow', 'delv', 'dank', 'dungeon', 'frighten', 'plenti', 'written', 'search', 'percent', 'leav', 'behind', 'begin', 'chang', 'mundan', 'metal', 'give', 'way', 'purpl', 'green', 'glow', 'scum', 'coat', 'slime', 'slow', 'ceil', 'feel', 'dread', 'someth', 'could', 'limit', 'amount', 'memor', 'fall', 'open', 'specif', 'sometim', 'float', 'stuck', 'walk', 'across', 'gap', 'touch', 'three', 'health', 'replenish', 'big', 'avoid', 'hope', 'happen', 'empti', 'tear', 'quick', 'minut', 'stamina', 'monster', 'chanc', 'catch', 'longer', 'visibl', 'area', 'bright', 'enter', 'correct', 'combin', 'anoth', 'torch', 'reveal', 'mere', 'paint', 'black', 'unwind', 'elev', 'coffe', 'break', 'balanc', 'calm', 'tens', 'never', 'anyth', 'hundr', 'prize', 'box', 'truth', 'told', 'goal', 'video', 'mark', 'threat', 'alreadi', 'perhap', 'difficult', 'seven', 'hour', 'invest', 'grind', 'fear', 'long', 'endur', 'issu', 'push', 'away', 'corner', 'suppos', 'accept', 'hung', 'thing', 'stab', 'ghost', 'mall', 'divers', 'well', 'sell', 'make', 'easier', 'beyond', 'cheap', 'litter', 'often', 'far', 'without', 'much', 'excit', 'funni', 'stori', 'sad', 'luck', 'thought', 'would', 'oper', 'system', 'chill', 'origin', 'romant', 'idea', 'goo', 'suddenli', 'puppet', 'guy', 'mask', 'along', 'needl', 'dont', 'let', 'guard', 'start', 'crap', 'taken', 'alway', 'confus', 'complet', 'compel', 'mysteri', 'ca', 'pull', 'name', 'seemingli', 'normal', 'titl', 'say', 'entertain', 'dirti', 'cloth', 'short', 'simpl', 'plu', 'cut', 'escap', 'bewar', 'exactli', 'think', 'style', 'lot', 'popular', 'definit', 'els', 'posit', 'awesom', 'may', 'seem', 'trust', 'also', 'shot', 'wish', 'suggest', 'rest', 'hunt', 'said', 'want', 'given', 'harder', 'paranoia', 'tension', 'inde', 'innoc', 'glad', 'got', 'lay', 'demon', 'ever', 'alon', 'boy', 'actual', 'gave', 'man', 'freak', 'evil', 'suck', 'childish', 'appear', 'fool', 'bad', 'current', 'roam', 'place', 'fit', 'amaz', 'criteria', 'effect', 'quit', 'easter', 'alien', 'five', 'night', 'ad', 'horribl', 'real', 'encount', 'everywher', 'wether', 'continu', 'must', 'mesh', 'delight', 'cheer', 'wooden', 'fight', 'learn', 'howev', 'mean', 'stop', 'show', 'startl', 'front', 'distract', 'abomin', 'true', 'import', 'gener', 'importantli', 'math', 'quirki', 'entir', 'complex', 'occasion', 'despit', 'univers', 'requir', 'simpli', 'fast', 'possibl', 'ceas', 'proceed', 'player', 'reason', 'explor', 'unless', 'forc', 'sequenc', 'overcom', 'fortun', 'necessari', 'hard', 'hassl', 'miss', 'depend', 'effici', 'error', 'tend', 'deal', 'high', 'damag', 'manag', 'enough', 'reach', 'atmospher', 'blend', 'mainli', 'dialogu', 'throughout', 'increasingli', 'portion', 'surprisingli', 'disturb', 'believ', 'success', 'opinion', 'highest', 'fan', 'least', 'overal', 'uniqu', 'rather', 'harmless', 'quickli', 'check', 'minimum', 'tire', 'load', 'chop', 'decent', 'everyth', 'alright', 'ta', 'fine', 'found', 'read', 'sent', 'stumbl', 'blind', 'lesson', 'today', 'disappoint', 'lack', 'blood', 'knife', 'pant', 'incred', 'initi', 'design', 'truli', 'sceneri', 'put', 'state', 'whole', 'host', 'outstand', 'abil', 'deliv', 'anyon', 'joke', 'understand', 'bush', 'although', 'mockeri', 'reli', 'tediou', 'task', 'ran', 'easili', 'within', 'slightli', 'special', 'whatev', 'home', 'adventur', 'bigger', 'pictur', 'twice', 'score', 'cup', 'tea', 'old', 'shorter', 'campaign', 'stuff', 'twist', 'gem', 'absolut', 'terrifi', 'cri', 'sure', 'soft', 'fals', 'secur', 'gain', 'pile', 'convent', 'clear', 'journey', 'monstrou', 'born', 'resid', 'abl', 'pick', 'prepar', 'spend', 'money', 'underwear', 'l', 'favorit', 'genr', 'critic', 'claim', 'yesterday', 'clever', 'succeed', 'date', 'approxim', 'small', 'certainli', 'excus', 'perfect', 'move', 'tini', 'wash', 'road', 'ahead', 'sale', 'weak', 'fair', 'unrealist', 'awhil', 'either', 'job', 'fail', 'life', 'decid', 'anyway', 'extrem', 'price', 'fantast', 'cool', 'audio', 'static', 'total', 'case', 'bore', 'help', 'went', 'variou', 'fix', 'saw', 'famou', 'channel', 'bu', 'die', 'spot', 'wan', 'na', 'dev', 'research', 'level', 'therefor', 'ignor', 'wo', 'regret', 'speaker', 'gotten', 'seen', 'knew', 'expens', 'carpet', 'bill', 'market', 'seri', 'prais', 'main', 'handl', 'unfortun', 'incorrect', 'laugh', 'someon', 'basic', 'type', 'probabl', 'gon', 'summer', 'describ', 'safe', 'spoil', 'pass', 'transpar', 'premis', 'lightheart', 'thin', 'thread', 'plot', 'goe', 'wander', 'less', 'second', 'repeat', 'space', 'coupl', 'genuin', 'stick', 'cover', 'mechan', 'scenario', 'ensur', 'saniti', 'card', 'kiss', 'bout', 'u', 'tell', 'us', 'matter', 'face', 'pumpkin', 'boom', 'ladi', 'eat', 'forev', 'advic', 'situat', 'scream', 'witch', 'highlight', 'scheme', 'child', 'spook', 'park', 'adult', 'intens', 'recent', 'record', 'convinc', 'sit', 'agre', 'pleas', 'unheard', 'hall', 'girl', 'cutout', 'skeleton', 'caus', 'attack', 'bare', 'endear', 'admittedli', 'toast', 'role', 'edg', 'screen', 'brother', 'potato', 'spec', 'self', 'qualiti', 'half', 'structur', 'awar', 'accomplish', 'send', 'engag', 'spoiler', 'alert', 'sorri', 'nightmar', 'weird', 'dude', 'soul', 'loud', 'pack', 'shout', 'fulli', 'ambienc', 'done', 'trap', 'ground', 'sake', 'instead', 'kind', 'resort', 'downsid', 'clich', 'chore', 'switch', 'appreci', 'super', 'mind', 'narrow', 'obvious', 'dear', 'god', 'pun', 'intend', 'beef', 'splash', 'random', 'nice', 'varieti', 'art', 'neat', 'concept', 'ton', 'panic', 'bunch', 'till', 'final', 'boss', 'pro', 'rush', 'came', 'nearli', 'numer', 'nearest', 'part', 'exit', 'program', 'steel', 'perfectli', 'hate', 'care', 'feedback', 'receiv', 'hey', 'promptli', 'desper', 'plan', 'obviou', 'there', 'eye', 'heck', 'test', 'averag', 'youv', 'larg', 'simul', 'crank', 'volum', 'past', 'deadli', 'crawl', 'rear', 'red', 'damn', 'heal', 'last', 'straight', 'judg', 'store', 'crazi', 'ex', 'cant', 'stay', 'shouldnt', 'spider', 'bug', 'choic', 'click', 'arcad', 'besid', 'meat', 'lame', 'tactic', 'legitim', 'payoff', 'aliv', 'battl', 'wind', 'scroll', 'text', 'proper', 'mood', 'grim', 'compani', 'threw', 'togeth', 'introduc', 'via', 'polish', 'dull', 'creativ', 'surpris', 'smile', 'honestli', 'caught', 'curios', 'dive', 'directli', 'protagonist', 'slowli', 'build', 'nostalg', 'movement', 'kindli', 'lower', 'bland', 'voic', 'act', 'doubl', 'sword', 'hand', 'execut', 'properli', 'introduct', 'rate', 'pace', 'action', 'visual', 'comic', 'increas', 'difficulti', 'hi', 'wonder', 'group', 'inform', 'suicid', 'spice', 'drink', 'ye', 'drunk', 'previous', 'gay', 'expect', 'sick', 'everyon', 'shut', 'talk', 'deer', 'wow', 'secret', 'messag', 'gradual', 'smaller', 'horrif', 'press', 'arrow', 'connect', 'lan', 'world', 'meet', 'brave', 'excel', 'shadow', 'flinch', 'cast', 'onto', 'left', 'share', 'print', 'substitut', 'remak', 'someday', 'nobodi', 'lose', 'imagin', 'nine', 'heavi', 'grip', 'axe', 'bone', 'evid', 'lone', 'shock', 'year', 'famili', 'mission', 'sudden', 'h', 'ride', 'suspens', 'lie', 'sexi', 'cream', 'ice', 'hole', 'bodi', 'eventu', 'lab', 'relief', 'eeri', 'chair', 'strang', 'singl', 'magic', 'obtain', 'forward', 'detail', 'ask', 'nowher', 'wast', 'slide', 'terror', 'rise', 'spike', 'randomli', 'advanc', 'previou', 'usual', 'refer', 'contain', 'breach', 'unreason', 'spoke', 'sentenc', 'skeptic', 'question', 'thirsti', 'choke', 'nope', 'ar', 'day', 'ramp', 'bothersom', 'alt', 'rubbish', 'practic', 'boredom', 'conduct', 'result', 'insan', 'anyhow', 'clue', 'accord', 'charact', 'whenev', 'particular', 'focu', 'honesti', 'none', 'threaten', 'except', 'outrun', 'unlik', 'cost', 'anywher', 'near', 'potenti', 'didnt', 'enemi', 'ago', 'cours', 'holi', 'acid', 'trip', 'hold', 'unexpect', 'bar', 'physic', 'gladli', 'compliment', 'masterpiec', 'smooth', 'throw', 'view', 'releas', 'shall', 'exampl', 'backward', 'sourc', 'background', 'strong', 'playtim', 'add', 'dig', 'everybodi', 'upcom', 'mous', 'friendli', 'replay', 'hidden', 'satan', 'serious', 'procedur', 'set', 'classic', 'silent', 'hill', 'bring', 'maximum', 'punch', 'pure', 'gold', 'content', 'festiv', 'updat', 'soon', 'process', 'forget', 'sister', 'tickl', 'until', 'word', 'mouth', 'broken', 'consid', 'mess', 'code', 'top', 'figur', 'attent', 'warn', 'liter', 'otherwis', 'mad', 'yep', 'breath', 'heavili', 'felt', 'faint', 'summon', 'wine', 'anxieti', 'stress', 'shell', 'former', 'beauti', 'eas', 'satir', 'whether', 'bear', 'jack', 'head', 'terribl', 'meter', 'repres', 'lead', 'choos', 'insid', 'discov', 'gimmick', 'environment', 'nudg', 'disconnect', 'impress', 'met', 'unsatisfi', 'conclus', 'altern', 'effort', 'mixtur', 'element', 'consider', 'subject', 'loos', 'stage', 'worthi', 'os', 'processor', 'core', 'memori', 'ram', 'avail', 'respons', 'offer', 'refund', 'steam', 'notic', 'imposs', 'call', 'insult', 'realiz', 'nervou', 'fade', 'sincer', 'mine', 'cycl', 'havent', 'armi', 'aka', 'tip', 'virtual', 'epitom', 'blue', 'flesh', 'tho', 'pee', 'cat', 'simplist', 'air', 'rail', 'logic', 'white', 'ding', 'moan', 'kitti', 'de', 'school', 'stalker', 'forest', 'fi', 'snake', 'food', 'r', 'incomplet', 'bread', 'wit', 'bunni', 'scar', 'letter', 'summar', 'scale', 'nearbi', 'danger', 'egg', 'spell', 'stupidli', 'crimin', 'slice', 'lost', 'boot', 'bless', 'buy', 'wear', 'doctor', 'jerk', 'oil', 'kept', 'beaten', 'constant', 'lure', 'exclus', 'fresh', 'trick', 'entic', 'race', 'seat', 'wors', 'cop', 'nomin', 'award', 'treat', 'valu', 'ie', 'number', 'adrenalin', 'non', 'immers', 'narr', 'challeng', 'swing', 'bought', 'known', 'power', 'infinit', 'albeit', 'refus', 'freez', 'merchant', 'yah', 'book', 'rais', 'news', 'mistak', 'doll', 'syring', 'tack', 'activ', 'brutal', 'tendenc', 'asham', 'admit', 'pair', 'se', 'min', 'bonu', 'instal', 'toilet', 'skin', 'hideou', 'bucket', 'problem', 'that', 'nois', 'f', 'paper', 'reliant', 'sign', 'prospect', 'thoroughli', 'medal', 'mental', 'product', 'creep', 'factor', 'format', 'clay', 'son', 'chuckl', 'bam', 'miser', 'stupid', 'basement', 'gosh', 'dang', 'beg', 'tast', 'dog', 'neg', 'major', 'hospit', 'stole', 'slight', 'unsur', 'bane', 'stalk', 'slaughter', 'readi', 'fairli', 'similar', 'featur', 'rememb', 'restaur', 'massiv', 'siren', 'frantic', 'flood', 'order', 'playabl', 'meant', 'machin', 'elig', 'visit', 'uncl', 'natur', 'oblig', 'bridg', 'unpreced', 'multipl', 'regular', 'chosen', 'clone', 'pay', 'blink', 'sin', 'annoy', 'amongst', 'profil', 'honest', 'wife', 'marri', 'burn', 'kudo', 'cultur', 'bloodi', 'behavior', 'patienc', 'observ', 'water', 'awkward', 'faster', 'ultim', 'expedit', 'explan', 'apart', 'biggest', 'spent', 'e', 'eh', 'lacklust', 'superb', 'equal', 'prefer', 'violent', 'control', 'support', 'yield', 'appeal', 'forgotten', 'enthusiast', 'realiti', 'star', 'audienc', 'rich', 'spare', 'signific', 'brain', 'replac', 'infin', 'minor', 'assassin', 'creed', 'brilliant', 'tabl', 'amnesia', 'glide', 'legit', 'somebodi', 'risk', 'dollar', 'car', 'speed', 'wont', 'hurt', 'branch', 'explain', 'addit', 'corps', 'wrote', 'futur', 'crush', 'purpos', 'worst', 'mix', 'ten', 'interact', 'badli', 'determin', 'angel', 'blindli', 'cloud', 'board', 'troll', 'experienc', 'histori', 'modern', 'rip', 'thick', 'unfinish', 'attach', 'session', 'fill', 'puzzl', 'environ', 'impact', 'cold', 'recommand', 'line', 'respect', 'creator', 'medium', 'bird', 'flew', 'te', 'deter', 'dealer', 'hat', 'turkey', 'leg', 'anim', 'offici', 'piec', 'common', 'overli', 'tortur', 'led', 'upon', 'thrown', 'doesnt', 'terrain', 'version', 'grate', 'grandma', 'pin', 'assum', 'hack', 'plate', 'glimps', 'rift', 'headset', 'compat', 'built', 'p', 'reliev', 'pound', 'constantli', 'devic', 'improv', 'sequel', 'rock', 'portabl', 'construct', 'peak', 'alley', 'lit', 'retain', 'arch', 'rival', 'pain', 'crisi', 'id', 'loop', 'cring', 'track', 'wild', 'oddli', 'happili', 'outweigh', 'senc', 'sensit', 'tube', 'seriou', 'await', 'land', 'stapl', 'collect', 'amazingli', 'grow', 'chest', 'arm', 'option', 'enabl', 'complain', 'suprem', 'akin', 'itch', 'k', 'dust', 'amus', 'path', 'regard', 'outsid', 'rhyme', 'laid', 'zombi', 'creat', 'ammo', 'b', 'wherea', 'agil', 'tank', 'evas', 'opposit', 'fli', 'adapt', 'involv', 'strategi', 'bite', 'split', 'lucki', 'aesthet', 'encourag', 'w', 'intent', 'beginn', 'prefac', 'intrigu', 'tight', 'feed', 'subtl', 'bowl', 'prone', 'section', 'menu', 'overlay', 'dream', 'emul', 'smell', 'struggl', 'thrill', 'ongo', 'typic', 'comfort', 'jar', 'zone', 'abysm', 'flaw', 'exponenti', 'sore', 'ha', 'aimlessli', 'slender', 'what', 'formula', 'screw', 'gore', 'unknown', 'finger', 'regularli', 'unus', 'vari', 'base', 'charg', 'scatter', 'map', 'bang', 'buck', 'dislik', 'nail', 'foundat', 'protect', 'lore', 'sadli', 'isol', 'instant', 'combat', 'sloppi', 'optim', 'resolut', 'perform', 'credit', 'theme', 'young', 'whilst', 'join', 'navig', 'abandon', 'bleed', 'report', 'technic', 'standpoint', 'firstli', 'reset', 'sticki', 'accident', 'secondli', 'camera', 'jitteri', 'bound', 'huge', 'engin', 'lean', 'decept', 'thingi', 'precis', 'humbl', 'beast', 'includ', 'hilari', 'summari', 'sir', 'puddl', 'toward', 'greatli', 'wari', 'forgiv', 'profan', 'dearli', 'ugh', 'myriad', 'equat', 'exist', 'gather', 'abound', 'fire', 'distanc', 'inferno', 'sweat', 'uncomfort', 'flame', 'sole', 'melt', 'disgust', 'sig', 'command', 'lord', 'fell', 'weapon', 'hud', 'sat', 'invert', 'capabl', 'duo', 'wide', 'monet', 'grab', 'psycholog', 'allow', 'twitch', 'author', 'til', 'correctli', 'incorrectli', 'poop', 'smart', 'adjust', 'entranc', 'plain', 'mostli', 'develop', 'wound', 'fashion', 'present', 'sicken', 'tone', 'travers', 'rusti', 'size', 'torn', 'doubt', 'wet', 'gud', 'fist', 'solid', 'bed', 'travel', 'vector', 'patient', 'studio', 'intellig', 'complaint', 'spiritu', 'sub', 'domin', 'ut', 'tribut', 'forum', 'separ', 'altogeth', 'skull', 'muscl', 'immedi', 'buddi', 'repeatedli', 'link', 'manual', 'automat', 'drag', 'cap', 'cursor', 'center', 'resolv', 'applic', 'concern', 'intrus', 'frequent', 'trigger', 'mobil', 'port', 'poor', 'middl', 'page', 'bump', 'piti', 'od', 'za', 'rid', 'descript', 'peac', 'appropri', 'filler', 'unforgiv', 'direct', 'skill', 'counter', 'suffer', 'countless', 'render', 'illus', 'varianc', 'inconveni', 'minim', 'ben', 'linear', 'pit', 'remov', 'motion', 'shi', 'legend', 'confirm', 'unravel', 'hook', 'experiment', 'mindless', 'monoton', 'refin', 'recogn', 'will', 'inher', 'disguis', 'fluff', 'spici', 'dumb', 'suit', 'fake', 'depth', 'troubl', 'display', 'babi', 'million', 'mob', 'magnific', 'song', 'step', 'commun', 'clicker', 'reduc', 'dress', 'defeat', 'alli', 'accumul', 'cell', 'joy', 'dad', 'disgrac', 'idl', 'aa', 'sun', 'franchis', 'awe', 'inspir', 'stun', 'radiant', 'higher', 'button', 'verdict', 'incent', 'glanc', 'lightli', 'trench', 'currenc', 'upgrad', 'purchas', 'equival', 'ne', 'nude', 'lover', 'foremost', 'parent', 'useless', 'unlock', 'trivial', 'worthless', 'recip', 'dri', 'measur', 'teaspoon', 'bake', 'preheat', 'oven', 'stir', 'spoon', 'batter', 'flour', 'round', 'dough', 'spread', 'sheet', 'hero', 'boner', 'skip', 'servic', 'copiou', 'ancient', 'awkwardli', 'hire', 'wrist', 'fest', 'answer', 'ribbon', 'thirst', 'fetish', 'outfit', 'novel', 'fantasi', 'chapter', 'nake', 'violenc', 'pleasur', 'expand', 'realism', 'x', 'hot', 'grill', 'flawless', 'cancer', 'cumbersom', 'keyboard', 'artist', 'exact', 'object', 'nuditi', 'weirdli', 'week', 'furthermor', 'bother', 'junk', 'earn', 'novelti', 'compuls', 'listen', 'forth', 'ruin', 'snap', 'ala', 'delet', 'lewd', 'dual', 'badg', 'wing', 'scantili', 'chick', 'repuls', 'speak', 'sexual', 'emot', 'local', 'church', 'hop', 'barrel', 'kick', 'numb', 'halfway', 'throat', 'stomach', 'gone', 'mud', 'ur', 'magazin', 'macro', 'ya', 'storm', 'astonish', 'barley', 'orang', 'drop', 'satisfi', 'appar', 'crash', 'waster', 'cosmet', 'trash', 'trade', 'justifi', 'sensibl', 'economi', 'wallet', 'craft', 'trend', 'bull', 'milk', 'fruit', 'auto', 'admir', 'upper', 'swear', 'afford', 'team', 'killer', 'dun', 'asid', 'rins', 'pointless', 'provid', 'context', 'slap', 'tap', 'curv', 'tech', 'acquir', 'resourc', 'hog', 'cheat', 'satisfact', 'manipul', 'bye', 'solo', 'achiev', 'horni', 'slay', 'zero', 'amass', 'capitalist', 'shallow', 'slash', 'mindlessli', 'revolutionari', 'month', 'socket', 'hair', 'mute', 'deep', 'ethic', 'warrior', 'edit', 'whose', 'deriv', 'gen', 'increment', 'moon', 'chees', 'clad', 'pose', 'manner', 'remot', 'dragon', 'silenc', 'affect', 'model', 'enhanc', 'strictli', 'period', 'addict', 'bathroom', 'revert', 'apocalyps', 'mass', 'destruct', 'giant', 'uncontrol', 'ultra', 'slim', 'surround', 'town', 'closer', 'murder', 'crime', 'flat', 'broke', 'reward', 'gloriou', 'grace', 'dime', 'demand', 'rapidli', 'variat', 'profit', 'toss', 'simplic', 'fallen', 'onward', 'glori', 'plug', 'accur', 'aim', 'innov', 'spirit', 'parti', 'boost', 'perk', 'strait', 'hang', 'hearthston', 'rank', 'thu', 'scrub', 'ocean', 'cross', 'vast', 'blizzard', 'par', 'captur', 'tame', 'array', 'social', 'destroy', 'list', 'proof', 'rapid', 'age', 'uninspir', 'offend', 'aw', 'wipe', 'irrat', 'site', 'utter', 'garbag', 'neutral', 'capit', 'wise', 'evalu', 'demograph', 'certainti', 'proudli', 'standard', 'librari', 'tiresom', 'particularli', 'slip', 'tail', 'boar', 'vagu', 'resembl', 'sacrif', 'target', 'degre', 'monotoni', 'ridicul', 'prestig', 'rebirth', 'neglig', 'mileston', 'passiv', 'infrequ', 'output', 'dozen', 'aspect', 'halt', 'tangibl', 'essenti', 'shameless', 'cash', 'fulfil', 'microphon', 'teen', 'copi', 'rariti', 'wasnt', 'post', 'mislead', 'patch', 'compar', 'mathemat', 'function', 'dealt', 'implement', 'attract', 'pattern', 'shown', 'tab', 'strateg', 'rang', 'coin', 'ident', 'emblem', 'colossu', 'sonic', 'sticker', 'interfac', 'unintuit', 'um', 'footag', 'relationship', 'offens', 'sex', 'champion', 'rub', 'insert', 'male', 'recruit', 'react', 'tie', 'condit', 'fiction', 'japan', 'curat', 'termin', 'valuabl', 'human', 'centuri', 'enlighten', 'plane', 'bank', 'flight', 'technolog', 'train', 'singular', 'storytel', 'hollow', 'sleep', 'unplay', 'refresh', 'mid', 'indulg', 'geniu', 'mildli', 'sweet', 'partial', 'popul', 'captain', 'log', 'civil', 'inevit', 'void', 'reborn', 'strain', 'disassembl', 'acceler', 'monitor', 'shake', 'majest', 'per', 'healthi', 'aint', 'greedi', 'quot', 'teacher', 'father', 'digit', 'donat', 'mother', 'benefit', 'collector', 'whomev', 'booster', 'elsewher', 'advertis', 'scummi', 'hostag', 'count', 'shop', 'glare', 'discuss', 'clearli', 'reg', 'consol', 'victim', 'farm', 'hide', 'costum', 'em', 'busi', 'yell', 'scratch', 'woman', 'catchi', 'honey', 'guid', 'thumb', 'frequenc', 'emphasi', 'absurd', 'subscrib', 'hub', 'fairi', 'plant', 'asset', 'maxim', 'wacki', 'ordinari', 'proven', 'differenti', 'yo', 'men', 'util', 'distribut', 'dynam', 'rack', 'furiou', 'unimagin', 'strength', 'rethink', 'toggl', 'whatsoev', 'drift', 'tablet', 'everyday', 'suppli', 'grade', 'influenti', 'promis', 'farther', 'window', 'penni', 'stream', 'meanwhil', 'eras', 'invas', 'mighti', 'monopoli', 'loyal', 'flare', 'browser', 'aid', 'underli', 'method', 'presenc', 'colour', 'harm', 'gripe', 'absenc', 'morn', 'poker', 'desert', 'folk', 'inner', 'upset', 'al', 'vacat', 'bing', 'bottom', 'snowbal', 'gun', 'cheesi', 'intuit', 'gift', 'drown', 'attend', 'assault', 'brand', 'depress', 'fat', 'victori', 'femal', 'techniqu', 'inflat', 'contend', 'meaning', 'energi', 'among', 'individu', 'shower', 'unbalanc', 'express', 'beliv', 'tape', 'massacr', 'privat', 'attempt', 'rule', 'percentag', 'prioriti', 'timer', 'embrac', 'data', 'carpal', 'tunnel', 'fragil', 'sweati', 'necessarili', 'realist', 'reconsid', 'stabl', 'hardli', 'recoil', 'shoot', 'sniper', 'publish', 'august', 'confront', 'govern', 'militari', 'stagnant', 'induc', 'hacker', 'global', 'lag', 'unstabl', 'alpha', 'daili', 'cod', 'teammat', 'rage', 'yea', 'armor', 'defens', 'shooter', 'unbal', 'toxic', 'reaction', 'froze', 'whim', 'beta', 'strike', 'ping', 'filter', 'latenc', 'whit', 'camp', 'spawn', 'invinc', 'pinnacl', 'crate', 'shove', 'filthi', 'mele', 'trump', 'detect', 'rainbow', 'six', 'wouldnt', 'uninstal', 'cheater', 'vote', 'favor', 'counterstrik', 'gunner', 'motiv', 'matur', 'polit', 'launch', 'deform', 'knock', 'graphicli', 'messi', 'match', 'hardwar', 'fluent', 'row', 'rant', 'server', 'aura', 'econom', 'skirmish', 'roll', 'poorli', 'gunplay', 'crouch', 'shift', 'slipperi', 'panel', 'whine', 'brainless', 'draw', 'gear', 'loot', 'user', 'shotgun', 'blank', 'cone', 'ak', 'carbin', 'clip', 'choppi', 'pistol', 'enorm', 'instantli', 'kil', 'drastic', 'unfair', 'statist', 'sight', 'fanci', 'anti', 'aviat', 'bee', 'yellow', 'ow', 'wave', 'colleg', 'sting', 'distinguish', 'welcom', 'hive', 'divis', 'valiant', 'sooth', 'cousin', 'helmet', 'latest', 'pour', 'speci', 'decis', 'societi', 'sky', 'statu', 'distant', 'huh', 'balloon', 'ant', 'celebr', 'pierc', 'stunt', 'desk', 'stellar', 'monkey', 'neck', 'heat', 'flag', 'infect', 'teamwork', 'autist', 'battlefield', 'nonsens', 'bet', 'ban', 'abus', 'buggi', 'gam', 'naw', 'syndrom', 'ist', 'matchmak', 'tutori', 'lobbi', 'rude', 'deton', 'nowaday', 'statement', 'knowledg', 'commit', 'compet', 'shield', 'destini', 'chat', 'reinstal', 'frustrat', 'relax', 'sweep', 'leaf', 'maintain', 'workshop', 'spray', 'russia', 'web', 'inaccur', 'whoever', 'war', 'versu', 'frankli', 'hors', 'sold', 'street', 'rough', 'preciou', 'uniti', 'trailer', 'handgun', 'disabl', 'steal', 'lazi', 'luckili', 'blast', 'factori', 'delay', 'citi', 'straw', 'eu', 'wa', 'supposedli', 'warfar', 'buff', 'immens', 'iron', 'slider', 'revisit', 'span', 'slot', 'safeti', 'la', 'da', 'ammunit', 'disord', 'solut', 'fuse', 'assist', 'comprehend', 'north', 'select', 'comment', 'scoreboard', 'imit', 'dare', 'item', 'elimin', 'pale', 'net', 'lastli', 'redeem', 'competit', 'exil', 'buyabl', 'dirt', 'pad', 'paragraph', 'mediocr', 'horrid', 'aswel', 'prevent', 'demis', 'rifl', 'graviti', 'registr', 'nerv', 'moron', 'consist', 'owner', 'client', 'oppos', 'stood', 'snipe', 'region', 'unreli', 'public', 'accuraci', 'breed', 'hurrican', 'valv', 'strongli', 'quiet', 'harshli', 'copyright', 'taught', 'brought', 'mortal', 'possess', 'earth', 'snow', 'sing', 'bomb', 'shorten', 'mag', 'capac', 'bullet', 'allianc', 'primari', 'fox', 'approach', 'slave', 'descent', 'shutdown', 'input', 'heaven', 'conflict', 'equip', 'arsen', 'assort', 'distinct', 'c', 'assign', 'setup', 'packag', 'ditch', 'forsaken', 'preset', 'wonki', 'plagu', 'industri', 'roof', 'reveng', 'unpolish', 'secondari', 'pray', 'king', 'arent', 'cake', 'vertic', 'imbal', 'languag', 'thirti', 'superior', 'unlimit', 'grammar', 'scope', 'ugli', 'frame', 'beefi', 'viru', 'wood', 'gush', 'spew', 'anybodi', 'remain', 'daddi', 'idiot', 'crossov', 'riot', 'ea', 'translat', 'consecut', 'th', 'muzzl', 'flash', 'rope', 'ga', 'third', 'offspr', 'insight', 'humanli', 'reskin', 'squad', 'notori', 'familiar', 'block', 'unload', 'reload', 'grenad', 'ricochet', 'epic', 'pathet', 'rampag', 'sh', 'carbon', 'hiatu', 'crowd', 'cliff', 'couch', 'belief', 'passion', 'expans', 'polici', 'salti', 'noon', 'landscap', 'default', 'atroci', 'oppon', 'blatant', 'sooner', 'suspect', 'approv', 'custom', 'predict', 'extent', 'fabul', 'unusu', 'inventori', 'payment', 'trial', 'rel', 'unchang', 'ill', 'boat', 'con', 'disk', 'contact', 'foe', 'dash', 'chain', 'waist', 'anticip', 'ship', 'explanatori', 'fuel', 'station', 'warp', 'tide', 'sluggish', 'gambl', 'cancel', 'danc', 'slug', 'harsh', 'unnecessarili', 'sneak', 'blow', 'spaceship', 'trek', 'dreadnought', 'flashi', 'gentli', 'readili', 'tier', 'caveat', 'collis', 'fleet', 'stealth', 'gigant', 'length', 'boast', 'conquest', 'latter', 'tilt', 'unreal', 'finder', 'seeker', 'swag', 'unpredict', 'locat', 'driven', 'galaxi', 'mitig', 'ai', 'wolf', 'lesser', 'greater', 'fraction', 'crew', 'outright', 'whatnot', 'overview', 'pioneer', 'hangar', 'inch', 'storag', 'term', 'cloak', 'veteran', 'acquisit', 'pursu', 'bypass', 'stabil', 'evolv', 'fighter', 'swarm', 'instanc', 'pleasantli', 'apolog', 'steep', 'leagu', 'fortress', 'unstopp', 'entireti', 'season', 'meta', 'hectic', 'needlessli', 'es', 'spiel', 'wird', 'ich', 'curs', 'sie', 'bin', 'sind', 'scout', 'battleship', 'medic', 'ambush', 'shoddi', 'asteroid', 'belt', 'phenomen', 'repair', 'gorgeou', 'scienc', 'flagship', 'sheer', 'thunder', 'alter', 'micro', 'weekend', 'sector', 'gamma', 'healer', 'sigh', 'uneven', 'textur', 'starter', 'borderlin', 'brawler', 'tweak', 'rooki', 'desir', 'maneuv', 'faction', 'pride', 'raven', 'raider', 'ranger', 'blown', 'breakdown', 'organ', 'infrastructur', 'upward', 'nose', 'momentum', 'critiqu', 'flow', 'transact', 'indic', 'hanger', 'member', 'imaginari', 'mandatori', 'triangl', 'opera', 'growth', 'cockpit', 'deepli', 'urg', 'drawn', 'immatur', 'rig', 'annoyingli', 'grand', 'studi', 'excess', 'eve', 'bummer', 'freeli', 'lumber', 'divid', 'stationari', 'zoom', 'struck', 'planet', 'lava', 'naval', 'brawl', 'sail', 'sea', 'suitabl', 'dimension', 'extens', 'recon', 'bot', 'merci', 'butter', 'ore', 'tremend', 'arena', 'duel', 'ti', 'candi', 'nonstop', 'founder', 'changer', 'premium', 'movi', 'outrag', 'pool', 'identifi', 'soar', 'plastic', 'privileg', 'creation', 'novic', 'platinum', 'bash', 'occas', 'smoothli', 'pilot', 'steadi', 'minu', 'longev', 'temporari', 'tower', 'golden', 'soak', 'prove', 'remind', 'horizon', 'promot', 'hulk', 'beam', 'laser', 'evolut', 'consumpt', 'slick', 'reserv', 'launcher', 'incap', 'lane', 'firepow', 'infiltr', 'behav', 'usag', 'pub', 'breaker', 'willing', 'tad', 'prop', 'alik', 'solv', 'blur', 'vision', 'angl', 'wheel', 'quantum', 'ring', 'independ', 'fund', 'establish', 'henc', 'dice', 'curiou', 'streamer', 'broad', 'paragon', 'smite', 'wee', 'empir', 'spark', 'field', 'appli', 'funki', 'abort', 'wot', 'loss', 'evad', 'darn', 'armada', 'queue', 'carrier', 'weaponri', 'fluid', 'polygon', 'document', 'hull', 'straightforward', 'convolut', 'cautiou', 'sink', 'teeth', 'angri', 'substanti', 'warcraft', 'defenc', 'intercept', 'elit', 'citizen', 'limitless', 'explos', 'four', 'throttl', 'complic', 'network', 'router', 'blame', 'dispos', 'moder', 'dogfight', 'guild', 'enforc', 'expert', 'contribut', 'fend', 'reaper', 'v', 'evacu', 'decreas', 'replic', 'spectacular', 'riski', 'relev', 'distinctli', 'irrelev', 'conglomer', 'strap', 'arc', 'fiddl', 'bob', 'artilleri', 'z', 'pitch', 'grasp', 'flak', 'git', 'advis', 'deserv', 'meati', 'unfairli', 'defend', 'outer', 'leviathan', 'gladiat', 'dip', 'bold', 'corvett', 'mate', 'allegi', 'vanguard', 'spit', 'confid', 'coop', 'fee', 'phase', 'career', 'templat', 'horizont', 'strafe', 'do', 'tax', 'entri', 'reactiv', 'minion', 'clash', 'letdown', 'cluster', 'versatil', 'corpor', 'agreement', 'regist', 'address', 'overhaul', 'axi', 'hah', 'metric', 'reminisc', 'essenc', 'prob', 'conquer', 'tick', 'lick', 'carri', 'remap', 'dam', 'zip', 'wick', 'fenc', 'departur', 'commentari', 'lifeless', 'scissor', 'disagre', 'categori', 'butt', 'rejoin', 'nich', 'pew', 'comprehens', 'shortag', 'rot', 'principl', 'bat', 'reflect', 'ventur', 'theoret', 'fault', 'overwhelm', 'stutter', 'modifi', 'pod', 'monthli', 'reconnect', 'tonight', 'older', 'slack', 'doge', 'wire', 'surrend', 'temp', 'margin', 'flair', 'bounti', 'partner', 'invis', 'futurist', 'declin', 'oblivi', 'arriv', 'merit', 'viabl', 'foolish', 'giveaway', 'pressur', 'stretch', 'complement', 'incompet', 'grown', 'disadvantag', 'bundl', 'materi', 'hint', 'teach', 'flank', 'delta', 'central', 'alarm', 'ingeni', 'overwhelmingli', 'vicin', 'invit', 'driver', 'duck', 'chunk', 'gut', 'radar', 'glass', 'selfish', 'dimens', 'heartili', 'investig', 'durat', 'chose', 'overwatch', 'silver', 'rebal', 'eager', 'theori', 'aircraft', 'facil', 'deliber', 'rotat', 'destin', 'reticl', 'turret', 'whip', 'theyr', 'bail', 'sour', 'classifi', 'downfal', 'crack', 'pet', 'censor', 'phantom', 'vice', 'penalti', 'punish', 'reckless', 'ticket', 'bind', 'smoke', 'rain', 'bust', 'orbit', 'uncommon', 'twenti', 'alongsid', 'turd', 'era', 'younger', 'implant', 'subscript', 'vehicl', 'intoler', 'grinder', 'lend', 'concentr', 'frozen', 'eleven', 'pretend', 'cinemat', 'helpless', 'stock', 'munit', 'lighter', 'augment', 'pinpoint', 'drama', 'brink', 'vital', 'strengthen', 'mountain', 'plasma', 'ball', 'interceptor', 'placement', 'spin', 'strive', 'wholeheartedli', 'diamond', 'discord', 'neither', 'antiviru', 'respond', 'fare', 'dedic', 'clearer', 'conclud', 'diversifi', 'unneed', 'revolv', 'happier', 'shini', 'juggl', 'downhil', 'event', 'evenli', 'territori', 'nonexist', 'mistaken', 'reduct', 'layout', 'rebind', 'mash', 'barrag', 'simular', 'occur', 'assur', 'escort', 'weekli', 'steer', 'whale', 'manufactur', 'jet', 'notch', 'gaug', 'brick', 'impati', 'winner', 'west', 'offic', 'radio', 'squadron', 'palett', 'film', 'falcon', 'stereotyp', 'prosper', 'defin', 'profession', 'hesit', 'walker', 'rad', 'prior', 'belov', 'hungri', 'cook', 'delici', 'fri', 'supper', 'comrad', 'guilti', 'tricki', 'sunk', 'stagger', 'breez', 'pali', 'rocket', 'smack', 'devast', 'tanker', 'afar', 'lifetim', 'confess', 'snatch', 'accommod', 'seek', 'taunt', 'sneaki', 'login', 'vibrant', 'harass', 'bulli', 'therebi', 'hostil', 'deploy', 'draft', 'duke', 'twitter', 'shabbi', 'rust', 'aggress', 'suspend', 'accus', 'horrend', 'regardless', 'opt', 'dispar', 'subsequ', 'shrink', 'outcom', 'bracket', 'tough', 'armament', 'incom', 'permit', 'slog', 'weight', 'masteri', 'transfer', 'drawback', 'moreov', 'tradit', 'overnight', 'misfortun', 'durabl', 'streak', 'quid', 'scrape', 'ho', 'rev', 'di', 'necess', 'smoother', 'variabl', 'clan', 'risen', 'significantli', 'basi', 'flawlessli', 'topic', 'chew', 'suffici', 'rework', 'nonetheless', 'remark', 'archetyp', 'toler', 'debat', 'stanc', 'eight', 'thruster', 'tin', 'tackl', 'ungodli', 'mile', 'forbid', 'composit', 'crisp', 'uphil', 'pleasant', 'seed', 'cobra', 'rune', 'repli', 'yearli', 'allot', 'serv', 'plethora', 'restrict', 'guardian', 'counterpart', 'backlash', 'chess', 'dump', 'drone', 'appl', 'dismiss', 'behaviour', 'emerg', 'maker', 'endlessli', 'contest', 'oblivion', 'tent', 'unleash', 'havoc', 'retreat', 'shape', 'truck', 'trail', 'keeper', 'forti', 'swallow', 'rife', 'shade', 'cruis', 'crucial', 'blanket', 'joe', 'preview', 'cannon', 'fodder', 'icon', 'font', 'easiest', 'comparison', 'persist', 'coz', 'explod', 'reliabl', 'protector', 'n', 'centurion', 'overs', 'recharg', 'headach', 'anchor', 'disappear', 'rep', 'untru', 'overpow', 'swell', 'shortli', 'heap', 'hyper', 'racism', 'stack', 'nicknam', 'etern', 'arbitrari', 'ratio', 'stone', 'guarante', 'barrier', 'ward', 'talent', 'deni', 'unwant', 'similarli', 'york', 'champ', 'pare', 'unfix', 'sane', 'boil', 'wake', 'asleep', 'decay', 'extend', 'caution', 'south', 'substanc', 'pudg', 'tool', 'freedom', 'sandbox', 'produc', 'crippl', 'compris', 'compromis', 'sensat', 'compos', 'perpetu', 'spiral', 'horn', 'bastard', 'faith', 'courier', 'cuss', 'comeback', 'influenc', 'usabl', 'regener', 'arcana', 'recoveri', 'turbo', 'tripl', 'hex', 'renam', 'calcul', 'nifti', 'incest', 'imag', 'extern', 'represent', 'border', 'foreign', 'racist', 'unrank', 'inact', 'stranger', 'liquid', 'nuke', 'wisdom', 'tiger', 'showcas', 'lina', 'countri', 'sport', 'phone', 'contrari', 'jungl', 'fountain', 'downward', 'dire', 'tomorrow', 'histor', 'obsess', 'educ', 'viciou', 'circl', 'fed', 'argument', 'understood', 'ineffici', 'inferior', 'hatr', 'grew', 'buri', 'beneath', 'submit', 'donkey', 'basketbal', 'footbal', 'echo', 'opportun', 'tournament', 'scene', 'phoenix', 'integr', 'intern', 'legaci', 'forese', 'vastli', 'convey', 'mediev', 'request', 'grumpi', 'gang', 'drug', 'graduat', 'lung', 'cigarett', 'bitter', 'mock', 'poison', 'heroin', 'warm', 'anger', 'g', 'immun', 'inclus', 'club', 'metaphor', 'furi', 'teas', 'ego', 'shelter', 'vanilla', 'twelv', 'archaic', 'prophet', 'tragedi', 'betray', 'ate', 'chicken', 'speech', 'platform', 'climb', 'attitud', 'multitud', 'verbal', 'tu', 'esteem', 'racial', 'meaningless', 'decad', 'frog', 'fundament', 'synergi', 'religion', 'bid', 'utterli', 'formerli', 'scourg', 'fabl', 'aegi', 'immort', 'resurrect', 'stale', 'reject', 'vanish', 'renew', 'flip', 'lowli', 'valid', 'cow', 'belli', 'chao', 'rabbit', 'el', 'openli', 'intrins', 'scam', 'smash', 'extinct', 'religi', 'ladder', 'romero', 'incid', 'lion', 'commend', 'manga', 'pronounc', 'mystic', 'river', 'flush', 'poof', 'saga', 'fetch', 'moral', 'cooler', 'accid', 'electr', 'butcher', 'hug', 'fought', 'navi', 'invent', 'membership', 'greed', 'pie', 'brown', 'pinch', 'peel', 'sugar', 'salt', 'crust', 'sharp', 'lattic', 'fold', 'sauc', 'obnoxi', 'willingli', 'spout', 'dove', 'priceless', 'unnecessari', 'masochist', 'schedul', 'temper', 'clock', 'exploit', 'financi', 'decor', 'revenu', 'arrog', 'checker', 'learnt', 'exchang', 'stolen', 'roster', 'blaze', 'spoken', 'devot', 'reput', 'intact', 'sue', 'modif', 'unit', 'justic', 'absurdli', 'wreck', 'cruel', 'swim', 'pic', 'corp', 'contrast', 'galleri', 'file', 'courag', 'envi', 'grief', 'loath', 'brazil', 'glu', 'disclaim', 'avid', 'ration', 'bloat', 'flee', 'flicker', 'tune', 'unorigin', 'dart', 'miracl', 'goblin', 'fu', 'fascin', 'announc', 'squar', 'communist', 'china', 'controversi', 'media', 'june', 'fourth', 'sacr', 'fatal', 'leap', 'project', 'sprinkl', 'turtl', 'claw', 'resist', 'tha', 'disast', 'commonli', 'east', 'competitor', 'steeper', 'broadcast', 'mild', 'pizza', 'nativ', 'loser', 'dose', 'honor', 'co', 'holiday', 'hobbi', 'hopelessli', 'pointlessli', 'quest', 'intric', 'lest', 'sway', 'failur', 'nation', 'drain', 'labor', 'compens', 'nay', 'wealth', 'fame', 'insignific', 'unfriendli', 'dinner', 'revers', 'licens', 'interior', 'unavail', 'paradis', 'suspicion', 'fish', 'particip', 'mana', 'unclear', 'unaccept', 'german', 'dodg', 'optimist', 'atom', 'thrower', 'nigh', 'mail', 'homework', 'dish', 'thrive', 'unsuspect', 'soviet', 'scoop', 'cesspool', 'swift', 'drove', 'triumph', 'bulk', 'unbeliev', 'attrit', 'carv', 'ironi', 'fate', 'warlock', 'drow', 'argu', 'stink', 'ah', 'sarcast', 'mum', 'gentl', 'strict', 'discoveri', 'simultan', 'forcibl', 'wholli', 'husk', 'petti', 'treasur', 'casino', 'soulless', 'devil', 'halo', 'phenomenon', 'wat', 'android', 'weed', 'feeder', 'retard', 'downgrad', 'illeg', 'egregi', 'weather', 'wildli', 'retir', 'surpass', 'outplay', 'dramat', 'feroci', 'disastr', 'specialist', 'profound', 'robot', 'survivor', 'er', 'vodka', 'attain', 'degrad', 'bald', 'exercis', 'helicopt', 'bloom', 'pocket', 'toaster', 'queen', 'crystal', 'razor', 'nutshel', 'legendari', 'quantiti', 'stash', 'transit', 'coach', 'narrat', 'burst', 'chamber', 'unpleas', 'thee', 'cach', 'abyss', 'tradabl', 'mage', 'knight', 'templar', 'spring', 'championship', 'winter', 'march', 'ape', 'partli', 'q', 'lotteri', 'pig', 'notif', 'redund', 'expir', 'dung', 'grave', 'invalid', 'decenc', 'eastern', 'undoubtedli', 'nostalgia', 'nasti', 'particl', 'poe', 'barbarian', 'ear', 'rat', 'grey', 'bartend', 'island', 'stray', 'wand', 'flex', 'stroke', 'fort', 'naiv', 'rigid', 'nevertheless', 'discharg', 'lightn', 'firebal', 'spear', 'exalt', 'interview', 'flask', 'revamp', 'banner', 'shirt', 'rogu', 'successor', 'injuri', 'reign', 'slope', 'emphas', 'undo', 'grant', 'correspond', 'primarili', 'gritti', 'edgi', 'oppress', 'law', 'contin', 'flavour', 'elabor', 'auction', 'flexibl', 'corrupt', 'percept', 'unfamiliar', 'compress', 'tailor', 'wrap', 'raw', 'label', 'expos', 'costli', 'scrambl', 'configur', 'interpret', 'interplay', 'iso', 'dope', 'wizard', 'staff', 'torchlight', 'roughli', 'shelf', 'ultima', 'godli', 'notabl', 'robust', 'sphere', 'grid', 'rerol', 'isometr', 'gateway', 'sustain', 'marvel', 'necromanc', 'prime', 'grit', 'throwback', 'hammer', 'unifi', 'bell', 'hoard', 'streamlin', 'predecessor', 'alloc', 'goddess', 'exagger', 'quarter', 'awaken', 'brute', 'dexter', 'sum', 'briefli', 'downright', 'futil', 'crawler', 'cent', 'acknowledg', 'scaveng', 'primit', 'disregard', 'artifici', 'obscur', 'ce', 'heroic', 'underground', 'coast', 'van', 'burnt', 'powerhous', 'seldom', 'merciless', 'convert', 'irrit', 'clutter', 'refil', 'atla', 'ascend', 'doabl', 'racer', 'beach', 'pirat', 'crab', 'symbol', 'hip', 'propaganda', 'liber', 'terrorist', 'root', 'artifact', 'transport', 'cult', 'ace', 'lift', 'orb', 'uninterest', 'chief', 'brief', 'realm', 'overrun', 'viscer', 'gender', 'duelist', 'hybrid', 'archer', 'qualifi', 'rubber', 'band', 'dishearten', 'verifi', 'shadi', 'enchant', 'swap', 'dweller', 'bleach', 'penetr', 'clumsi', 'unplug', 'char', 'projectil', 'totem', 'redo', 'bandit', 'beard', 'sync', 'inabl', 'brag', 'mythic', 'botch', 'obsolet', 'undon', 'endors', 'chip', 'blatantli', 'slam', 'inept', 'node', 'vein', 'sophist', 'owe', 'conveni', 'raid', 'leak', 'dwell', 'kiwi', 'adopt', 'baffl', 'astound', 'fluiditi', 'guidanc', 'twin', 'upsid', 'implor', 'negat', 'blade', 'goat', 'bend', 'fork', 'cough', 'vendor', 'vaniti', 'deck', 'bow', 'gate', 'sacrific', 'belong', 'ampl', 'expend', 'brake', 'galor', 'mutch', 'elder', 'brows', 'shore', 'attribut', 'mold', 'dawn', 'unfold', 'obscen', 'monetari', 'outdat', 'recycl', 'portal', 'prey', 'sunder', 'newli', 'matrix', 'fragment', 'nickl', 'mule', 'tester', 'consult', 'absent', 'presum', 'senior', 'retail', 'propheci', 'quad', 'divin', 'cure', 'ark', 'layer', 'recognit', 'tale', 'gist', 'pointer', 'vulner', 'hinder', 'discourag', 'leader', 'unlucki', 'overlook', 'churn', 'preval', 'frost', 'leftov', 'jimmi', 'sandwich', 'flavor', 'whirl', 'skinner', 'stubborn', 'inconsist', 'savior', 'outdoor', 'ambiti', 'overhead', 'cage', 'salari', 'exhilar', 'tought', 'understat', 'disrespect', 'aggrav', 'camel', 'lever', 'fixabl', 'wagon', 'compon', 'transform', 'doe', 'cope', 'sabot', 'trajectori', 'ballist', 'deflect', 'tall', 'frontal', 'motor', 'jumbo', 'bomber', 'court', 'wherev', 'modul', 'articl', 'wobbl', 'lawn', 'sarcasm', 'packet', 'prison', 'unbear', 'strip', 'endeavor', 'squeez', 'sparkl', 'dictat', 'despic', 'mig', 'hail', 'shred', 'stall', 'bia', 'biplan', 'airplan', 'firmli', 'violat', 'poll', 'un', 'exceed', 'buf', 'rambl', 'overtim', 'camouflag', 'royal', 'foliag', 'cam', 'garag', 'mac', 'sheep', 'nut', 'allevi', 'feasibl', 'unreward', 'rampant', 'employ', 'censorship', 'exhaust', 'revis', 'nickel', 'extinguish', 'flown', 'keen', 'bolt', 'shovel', 'insist', 'bottl', 'buyer', 'candl', 'obsidian', 'bounc', 'pen', 'kit', 'calib', 'agent', 'torrent', 'folder', 'registri', 'suspici', 'associ', 'trophi', 'hue', 'ludicr', 'reader', 'brit', 'panther', 'prototyp', 'cave', 'spall', 'goof', 'circa', 'unkil', 'trusti', 'vulgar', 'whichev', 'traffic', 'godlik', 'on', 'seal', 'polic', 'mount', 'glue', 'pump', 'mustang', 'infantri', 'yak', 'convers', 'ge', 'comedi', 'vampir', 'saint', 'eagl', 'notifi', 'trough', 'beer', 'patriot', 'interrupt', 'en', 'buffalo', 'spitfir', 'jam', 'proport', 'unprofession', 'explicitli', 'veloc', 'bankrupt', 'simplifi', 'authent', 'rotten', 'tempt', 'western', 'vehicular', 'bag', 'absorb', 'habit', 'luxuri', 'scrap', 'infam', 'permiss', 'problemat', 'crave', 'maneuver', 'incas', 'spree', 'toy', 'herd', 'vocal', 'analysi', 'coffin', 'astronom', 'cocain', 'regain', 'shaft', 'stingi', 'conceiv', 'collid', 'unbeat', 'jaw', 'variant', 'bearabl', 'missil', 'corsair', 'rose', 'bi', 'propel', 'snail', 'marker', 'rectifi', 'gimp', 'sketchi', 'drew', 'unhistor', 'loader', 'invulner', 'grass', 'buzz', 'aerial', 'sow', 'altitud', 'conscienc', 'prohibit', 'password', 'vers', 'insuffer', 'steadili', 'intellect', 'airfield', 'eta', 'ought', 'hefti', 'lethal', 'catastroph', 'remedi', 'starv', 'sand', 'laughabl', 'leopard', 'semi', 'joint', 'hellcat', 'recal', 'merg', 'mirror', 'essay', 'werent', 'infanc', 'union', 'consequ', 'trace', 'rudder', 'heel', 'clutch', 'stagnat', 'miracul', 'cater', 'painstak', 'wasteland', 'sieg', 'kingdom', 'bravo', 'fray', 'outclass', 'extraordinari', 'encyclopedia', 'shockingli', 'uncheck', 'crewman', 'lee', 'extract', 'sucker', 'juici', 'crispi', 'outsmart', 'para', 'mi', 'hay', 'si', 'lo', 'fur', 'handi', 'stomp', 'loyalti', 'mor', 'inexplic', 'unmatch', 'hade', 'nuclear', 'fusion', 'camper', 'stuf', 'hover', 'hopeless', 'poverti', 'withstand', 'den', 'incorpor', 'vintag', 'billion', 'student', 'goofi', 'entiti', 'curb', 'publicli', 'rob', 'consent', 'meticul', 'seeder', 'agenda', 'accustom', 'bent', 'legal', 'string', 'knee', 'guest', 'align', 'tinker', 'motto', 'orchestra', 'lush', 'sampl', 'asinin', 'quietli', 'skew', 'diseas', 'dune', 'overboard', 'unenjoy', 'eaten', 'crop', 'powder', 'pan', 'handicap', 'bay', 'blah', 'lousi', 'unhappi', 'inadequ', 'mainten', 'phrase', 'viewpoint', 'multipli', 'privaci', 'peer', 'dessert', 'fifth', 'poni', 'simpler', 'hatch', 'survey', 'oculu', 'accordingli', 'unturn', 'sank', 'despis', 'grunt', 'faulti', 'disgustingli', 'prematur', 'che', 'po', 'ma', 'finer', 'grappl', 'chopper', 'glider', 'muffl', 'roe', 'ski', 'instruct', 'beforehand', 'compass', 'ideal', 'knockoff', 'hawk', 'gig', 'script', 'unbox', 'administr', 'signatur', 'premier', 'logger', 'scan', 'fortnight', 'unavoid', 'hood', 'backup', 'rescu', 'climber', 'tundra', 'vault', 'cutter', 'shoulder', 'picki', 'bootleg', 'sack', 'height', 'peek', 'blackout', 'scarc', 'gunfir', 'outlin', 'sa', 'afterward', 'parachut', 'daybreak', 'clarifi', 'norm', 'recept', 'snowi', 'jewel', 'referr', 'vomit', 'stiff', 'radiu', 'blurri', 'malici', 'gondola', 'speedi', 'barn', 'dot', 'fairer', 'spong', 'ach', 'peski', 'altho', 'samurai', 'abund', 'landmark', 'batteri', 'forg', 'fuss', 'ray', 'unimpress', 'overtak', 'paranoid', 'trader', 'soldier', 'surf', 'timeless', 'attest', 'testament', 'detract', 'pyro', 'overweight', 'spi', 'poke', 'quak', 'craze', 'benefici', 'lovabl', 'delusion', 'garden', 'cart', 'wrench', 'grain', 'tour', 'mettl', 'sapper', 'bizarr', 'disrupt', 'sentri', 'puff', 'whop', 'outcri', 'temporarili', 'chalk', 'chocol', 'radic', 'lopsid', 'newcom', 'kan', 'outlook', 'conga', 'influx', 'hale', 'bison', 'properti', 'toe', 'exclud', 'turbin', 'shaki', 'basebal', 'toon', 'adequ', 'humour', 'whimsic', 'brush', 'bond', 'warrant', 'modest', 'cheeki', 'birthday', 'woo', 'demo', 'whini', 'demolit', 'reactor', 'dispens', 'causal', 'recov', 'sap', 'circuit', 'bazooka', 'incept', 'inject', 'nobl', 'pipelin', 'disc', 'chaotic', 'mill', 'lad', 'ownership', 'boycott', 'crossbow', 'appeas', 'manli', 'eleg', 'gratifi', 'ralli', 'payday', 'hord', 'captiv', 'squat', 'soda', 'resuppli', 'birth', 'satisfactori', 'harvest', 'diamondback', 'detriment', 'enrag', 'gibu', 'mow', 'prompt', 'cad', 'undeni', 'discount', 'spite', 'pole', 'ash', 'reviv', 'crown', 'deaf', 'rebound', 'recogniz', 'sizabl', 'waitress', 'kitchen', 'pink', 'afloat', 'dagger', 'jane', 'toll', 'cola', 'profici', 'squishi', 'measli', 'battalion', 'relic', 'comed', 'duplic', 'stalem', 'inexperi', 'antichrist', 'templ', 'prayer', 'worship', 'orthodox', 'underneath', 'radiat', 'shroud', 'collaps', 'hurri', 'dinosaur', 'lake', 'tycoon', 'payer', 'enthusiasm', 'undead', 'philosophi', 'primal', 'quiz', 'pendulum', 'reliv', 'mat', 'graveyard', 'ra', 'joey', 'brim', 'grandpa', 'routin', 'synchro', 'trainer', 'pot', 'dub', 'swipe', 'shuffl', 'vet', 'mulligan', 'ritual', 'rake', 'temperatur', 'sped', 'compound', 'ama', 'ni', 'cotton', 'resum', 'examin', 'seizur', 'mirag', 'behold', 'cleaner', 'bronz', 'sec', 'iter', 'gasp', 'tourney', 'retri', 'eleph', 'unrespons', 'algorithm', 'arrang', 'builder', 'proce', 'frist', 'redraw', 'token', 'editor', 'thrust', 'recreat', 'plat', 'infantryman', 'spotti', 'rent', 'bait', 'flourish', 'joust', 'mytholog', 'banana', 'nu', 'sideway', 'battleground', 'revel', 'mommi', 'din', 'leadership', 'verif', 'digress', 'treatment', 'dial', 'inappropri', 'declar', 'thorough', 'exceedingli', 'paladin', 'crusad', 'haul', 'republ', 'whack', 'pickup', 'reckon', 'someway', 'shark', 'untouch', 'hydrogen', 'helium', 'oxygen', 'fog', 'tread', 'mammoth', 'flop', 'scyth', 'lanc', 'copycat', 'pregnant', 'heartedli', 'pointi', 'gra', 'unarm', 'ariel', 'unnatur', 'rollback', 'floati', 'dupe', 'jest', 'friendship', 'displeas', 'blitz', 'purist', 'lite', 'arti', 'throne', 'cleverli', 'platoon', 'misunderstand', 'scorpion', 'engross', 'daughter', 'spectrum', 'harri', 'frogfoot', 'civilian', 'inexperienc', 'eject', 'airport', 'simmer', 'runway', 'aerobat', 'fidel', 'assess', 'vent', 'commerci', 'unskil', 'fanat', 'rotor', 'rocki', 'flanker', 'vive', 'firm', 'backfir', 'taxi', 'hornet', 'loan', 'dens', 'garlic', 'can', 'coars', 'cryptic', 'arduou', 'unrel', 'barren', 'meal', 'uniform', 'electron', 'valley', 'borrow', 'lunch', 'bargain', 'siphon', 'flyer', 'raptor', 'foundri', 'jeep', 'greas', 'barb', 'bike', 'upkeep', 'paratroop', 'bicycl', 'priest', 'highway', 'motorcycl', 'delux', 'outward', 'migrat', 'profess', 'torso', 'sod', 'jazz', 'wilder', 'likewis', 'dismantl', 'colt', 'chuck', 'traction', 'demonstr', 'infest', 'thou', 'unobtain', 'troop', 'pea', 'firearm', 'gray', 'villag', 'secretli', 'up', 'relentless', 'brew', 'magnitud', 'oftentim', 'plummet', 'whoop', 'brotherhood', 'dug', 'contra', 'midrang', 'gauntlet', 'hearth', 'contract', 'unexpectedli', 'redesign', 'trampl', 'lengthi', 'rebuild', 'disench', 'wile', 'berserk', 'astral', 'discard', 'conced', 'drought', 'export', 'assembl', 'demolish', 'elv', 'elf', 'trove', 'glyph', 'mantl', 'biom', 'blocki', 'cornerston', 'furnitur', 'lair', 'patron', 'companion', 'neon', 'intellectu', 'cube', 'flux', 'potion', 'lancer', 'cohes', 'rod', 'reven', 'fae', 'woke', 'salvag', 'tomb', 'trickster', 'wen', 'restor', 'tera', 'stronghold', 'empow', 'passabl', 'lockbox', 'mister', 'sprite', 'whisper', 'terrif', 'sibl', 'cleric', 'rebuilt', 'disclosur', 'hunger', 'charisma', 'hater', 'pathfind', 'trait', 'heirloom', 'beacon', 'satur', 'airship', 'frenzi', 'soe', 'sovereignti', 'fiasco', 'spar', 'enlist', 'desol', 'multicolor', 'swamp', 'wildlif', 'pixi', 'transmiss', 'soup', 'tracker', 'chrome', 'distort', 'nexu', 'dabbl', 'locker', 'insect', 'relaunch', 'burner', 'ara', 'aftermath', 'exot', 'gross', 'lucr', 'stinger', 'elk', 'whitetail', 'moos', 'scent', 'cottontail', 'colorado', 'pheasant', 'lodg', 'coyot', 'caller', 'feral', 'rap', 'zebra', 'sigil', 'suffic', 'nether', 'amateur', 'framework', 'blazer', 'miner', 'aion', 'canyon', 'cest', 'ghoul', 'blueprint', 'hotel', 'liveri', 'lap', 'underst', 'spa', 'revolut', 'mole', 'bunker', 'cappi', 'coal', 'extractor', 'glove', 'ion', 'inn', 'proto', 'ae', 'het', 'reincarn', 'reassembl', 'wog', 'blimp', 'apprentic', 'cuisin', 'vike', 'nadder', 'toothless', 'hiccup']\n"
     ]
    }
   ],
   "source": [
    "# train word2vec model -> learn the weights of the hidden layer\n",
    "# size: num of neural network layers \n",
    "# window: maximum distance between the target word and its neighboring word\n",
    "word2vec_model = Word2Vec(stemmed_train_review, size=150, window=5, min_count=5, workers=3, iter=10)\n",
    "print(word2vec_model)\n",
    "\n",
    "# summarize vocabulary\n",
    "words = list(word2vec_model.wv.vocab)\n",
    "print(words)"
   ]
  },
  {
   "cell_type": "code",
   "execution_count": 16,
   "metadata": {
    "ExecuteTime": {
     "end_time": "2020-04-26T17:50:04.314087Z",
     "start_time": "2020-04-26T17:50:04.119080Z"
    }
   },
   "outputs": [],
   "source": [
    "# save and load model \n",
    "word2vec_model.save(\"word2vec.model\")\n",
    "word2vec_model = Word2Vec.load(\"word2vec.model\")\n",
    "# continue train the model \n",
    "#word2vec_model.train(stemmed_test_review,total_examples=len(stemmed_test_review),epochs=10)"
   ]
  },
  {
   "cell_type": "code",
   "execution_count": 24,
   "metadata": {
    "ExecuteTime": {
     "end_time": "2020-04-21T05:58:31.454857Z",
     "start_time": "2020-04-21T05:58:31.377470Z"
    }
   },
   "outputs": [
    {
     "data": {
      "text/plain": [
       "[('cute', 0.845608115196228),\n",
       " ('scari', 0.8072538375854492),\n",
       " ('cardboard', 0.7835646867752075),\n",
       " ('chase', 0.7595124244689941),\n",
       " ('spooki', 0.7523843050003052),\n",
       " ('ador', 0.7320796847343445),\n",
       " ('scare', 0.720510721206665),\n",
       " ('babi', 0.7106027007102966),\n",
       " ('terrifi', 0.7073004841804504),\n",
       " ('puppet', 0.705169677734375)]"
      ]
     },
     "execution_count": 24,
     "metadata": {},
     "output_type": "execute_result"
    }
   ],
   "source": [
    "word2vec_model.wv.most_similar('creepi')"
   ]
  },
  {
   "cell_type": "code",
   "execution_count": 34,
   "metadata": {
    "ExecuteTime": {
     "end_time": "2020-04-20T01:19:36.194536Z",
     "start_time": "2020-04-20T01:19:36.157556Z"
    }
   },
   "outputs": [
    {
     "data": {
      "text/plain": [
       "0.19047758"
      ]
     },
     "execution_count": 34,
     "metadata": {},
     "output_type": "execute_result"
    }
   ],
   "source": [
    "# compute the cosine similarity between the two specified words using word vectors (embeddings)\n",
    "word2vec_model.wv.similarity(w1=\"childish\", w2=\"roam\")"
   ]
  },
  {
   "cell_type": "code",
   "execution_count": 54,
   "metadata": {
    "ExecuteTime": {
     "end_time": "2020-04-26T19:40:23.942120Z",
     "start_time": "2020-04-26T19:40:17.479544Z"
    }
   },
   "outputs": [],
   "source": [
    "def doc_vec(doc):\n",
    "    \"\"\"Create document vectors by averaging word vectors. Remove out-of-vocabulary words.\"\"\"\n",
    "    doc = [word for word in doc if word in word2vec_model.wv.vocab]\n",
    "    try:\n",
    "        return np.mean(word2vec_model.wv[doc], axis=0)\n",
    "    except ValueError:\n",
    "        return np.zeros(150)\n",
    "\n",
    "# prepare train data\n",
    "X_train_word2vec = list(stemmed_train_review.apply(doc_vec))\n",
    "train_copy = df_steam.drop([\"tags\", \"review_id\", \"user_review\", 'user_suggestion', \n",
    "                           \"overview\", 'developer'], 1)\n",
    "X_train = pd.concat([pd.DataFrame(X_train_word2vec), df_tags, train_copy], axis=1)\n",
    "\n",
    "# prepare test data\n",
    "X_test_word2vec = list(stemmed_test_review.apply(doc_vec))\n",
    "test_copy = df_test.drop([\"tags\", \"review_id\", \"user_review\",'user_suggestion', \"overview\", 'developer'], 1)\n",
    "X_test = pd.concat([pd.DataFrame(X_test_word2vec), df_test_tags, test_copy], axis=1)\n",
    "\n",
    "y_train = df_steam[\"user_suggestion\"]"
   ]
  },
  {
   "cell_type": "code",
   "execution_count": 55,
   "metadata": {
    "ExecuteTime": {
     "end_time": "2020-04-26T19:41:10.025099Z",
     "start_time": "2020-04-26T19:41:09.653062Z"
    }
   },
   "outputs": [],
   "source": [
    "# drop nan values\n",
    "X_train = pd.concat([X_train, y_train], axis=1).dropna()\n",
    "y_train = X_train[\"user_suggestion\"]\n",
    "X_train = X_train.drop(\"user_suggestion\", 1)\n",
    "X_test = X_test.dropna()"
   ]
  },
  {
   "cell_type": "markdown",
   "metadata": {},
   "source": [
    "## Machine learning model "
   ]
  },
  {
   "cell_type": "code",
   "execution_count": 56,
   "metadata": {
    "ExecuteTime": {
     "end_time": "2020-04-26T19:46:34.149166Z",
     "start_time": "2020-04-26T19:41:15.376219Z"
    }
   },
   "outputs": [
    {
     "name": "stdout",
     "output_type": "stream",
     "text": [
      "The in-sample accuracy score of SVM is:  0.570974820974821\n"
     ]
    }
   ],
   "source": [
    "clf = svm.SVC()\n",
    "clf.fit(X_train, y_train)\n",
    "\n",
    "# predicting the test set results\n",
    "y_pred_svm = clf.predict(X_test)\n",
    "\n",
    "print(\"The in-sample accuracy score of SVM is: \",clf.score(X_train, y_train))"
   ]
  },
  {
   "cell_type": "code",
   "execution_count": 62,
   "metadata": {
    "ExecuteTime": {
     "end_time": "2020-04-26T20:07:23.010397Z",
     "start_time": "2020-04-26T20:07:09.723691Z"
    }
   },
   "outputs": [
    {
     "name": "stdout",
     "output_type": "stream",
     "text": [
      "The in-sample accuracy score of Logistic Regression is:  0.8355278355278355\n",
      "\n",
      "\n",
      "[1 0 1 ... 1 1 1]\n"
     ]
    }
   ],
   "source": [
    "logreg = LogisticRegression(max_iter=10000, random_state=0)\n",
    "logreg.fit(X_train, y_train)\n",
    "\n",
    "# predicting the test set results\n",
    "y_pred_logit = logreg.predict(X_test)\n",
    "\n",
    "print(\"The in-sample accuracy score of Logistic Regression is: \", \n",
    "                              logreg.score(X_train, y_train))\n",
    "print(\"\\n\")\n",
    "print(y_pred_logit)"
   ]
  },
  {
   "cell_type": "code",
   "execution_count": 59,
   "metadata": {
    "ExecuteTime": {
     "end_time": "2020-04-26T19:48:22.880767Z",
     "start_time": "2020-04-26T19:48:22.860226Z"
    }
   },
   "outputs": [
    {
     "data": {
      "text/html": [
       "<div>\n",
       "<style scoped>\n",
       "    .dataframe tbody tr th:only-of-type {\n",
       "        vertical-align: middle;\n",
       "    }\n",
       "\n",
       "    .dataframe tbody tr th {\n",
       "        vertical-align: top;\n",
       "    }\n",
       "\n",
       "    .dataframe thead th {\n",
       "        text-align: right;\n",
       "    }\n",
       "</style>\n",
       "<table border=\"1\" class=\"dataframe\">\n",
       "  <thead>\n",
       "    <tr style=\"text-align: right;\">\n",
       "      <th></th>\n",
       "      <th>review_id</th>\n",
       "      <th>title</th>\n",
       "      <th>year</th>\n",
       "      <th>user_review</th>\n",
       "      <th>0</th>\n",
       "    </tr>\n",
       "  </thead>\n",
       "  <tbody>\n",
       "    <tr>\n",
       "      <td>0</td>\n",
       "      <td>1603</td>\n",
       "      <td>Counter-Strike: Global Offensive</td>\n",
       "      <td>2015.0</td>\n",
       "      <td>Nice graphics, new maps, weapons and models. B...</td>\n",
       "      <td>1.0</td>\n",
       "    </tr>\n",
       "    <tr>\n",
       "      <td>1</td>\n",
       "      <td>1604</td>\n",
       "      <td>Counter-Strike: Global Offensive</td>\n",
       "      <td>2018.0</td>\n",
       "      <td>I would not recommend getting into this at its...</td>\n",
       "      <td>1.0</td>\n",
       "    </tr>\n",
       "    <tr>\n",
       "      <td>2</td>\n",
       "      <td>1605</td>\n",
       "      <td>Counter-Strike: Global Offensive</td>\n",
       "      <td>2018.0</td>\n",
       "      <td>Edit 11/12/18I have tried playing CS:GO recent...</td>\n",
       "      <td>1.0</td>\n",
       "    </tr>\n",
       "  </tbody>\n",
       "</table>\n",
       "</div>"
      ],
      "text/plain": [
       "   review_id                             title    year  \\\n",
       "0       1603  Counter-Strike: Global Offensive  2015.0   \n",
       "1       1604  Counter-Strike: Global Offensive  2018.0   \n",
       "2       1605  Counter-Strike: Global Offensive  2018.0   \n",
       "\n",
       "                                         user_review    0  \n",
       "0  Nice graphics, new maps, weapons and models. B...  1.0  \n",
       "1  I would not recommend getting into this at its...  1.0  \n",
       "2  Edit 11/12/18I have tried playing CS:GO recent...  1.0  "
      ]
     },
     "execution_count": 59,
     "metadata": {},
     "output_type": "execute_result"
    }
   ],
   "source": [
    "df_final1 = pd.concat([steam_test, pd.DataFrame(y_pred_svm)], axis=1)\n",
    "df_final1.head(3)"
   ]
  },
  {
   "cell_type": "code",
   "execution_count": 63,
   "metadata": {
    "ExecuteTime": {
     "end_time": "2020-04-26T20:07:33.004096Z",
     "start_time": "2020-04-26T20:07:32.965427Z"
    }
   },
   "outputs": [
    {
     "data": {
      "text/html": [
       "<div>\n",
       "<style scoped>\n",
       "    .dataframe tbody tr th:only-of-type {\n",
       "        vertical-align: middle;\n",
       "    }\n",
       "\n",
       "    .dataframe tbody tr th {\n",
       "        vertical-align: top;\n",
       "    }\n",
       "\n",
       "    .dataframe thead th {\n",
       "        text-align: right;\n",
       "    }\n",
       "</style>\n",
       "<table border=\"1\" class=\"dataframe\">\n",
       "  <thead>\n",
       "    <tr style=\"text-align: right;\">\n",
       "      <th></th>\n",
       "      <th>review_id</th>\n",
       "      <th>title</th>\n",
       "      <th>year</th>\n",
       "      <th>user_review</th>\n",
       "      <th>0</th>\n",
       "    </tr>\n",
       "  </thead>\n",
       "  <tbody>\n",
       "    <tr>\n",
       "      <td>0</td>\n",
       "      <td>1603</td>\n",
       "      <td>Counter-Strike: Global Offensive</td>\n",
       "      <td>2015.0</td>\n",
       "      <td>Nice graphics, new maps, weapons and models. B...</td>\n",
       "      <td>1.0</td>\n",
       "    </tr>\n",
       "    <tr>\n",
       "      <td>1</td>\n",
       "      <td>1604</td>\n",
       "      <td>Counter-Strike: Global Offensive</td>\n",
       "      <td>2018.0</td>\n",
       "      <td>I would not recommend getting into this at its...</td>\n",
       "      <td>0.0</td>\n",
       "    </tr>\n",
       "    <tr>\n",
       "      <td>2</td>\n",
       "      <td>1605</td>\n",
       "      <td>Counter-Strike: Global Offensive</td>\n",
       "      <td>2018.0</td>\n",
       "      <td>Edit 11/12/18I have tried playing CS:GO recent...</td>\n",
       "      <td>1.0</td>\n",
       "    </tr>\n",
       "  </tbody>\n",
       "</table>\n",
       "</div>"
      ],
      "text/plain": [
       "   review_id                             title    year  \\\n",
       "0       1603  Counter-Strike: Global Offensive  2015.0   \n",
       "1       1604  Counter-Strike: Global Offensive  2018.0   \n",
       "2       1605  Counter-Strike: Global Offensive  2018.0   \n",
       "\n",
       "                                         user_review    0  \n",
       "0  Nice graphics, new maps, weapons and models. B...  1.0  \n",
       "1  I would not recommend getting into this at its...  0.0  \n",
       "2  Edit 11/12/18I have tried playing CS:GO recent...  1.0  "
      ]
     },
     "execution_count": 63,
     "metadata": {},
     "output_type": "execute_result"
    }
   ],
   "source": [
    "df_final2 = pd.concat([steam_test, pd.DataFrame(y_pred_logit)], axis=1)\n",
    "df_final2.head(3)"
   ]
  },
  {
   "cell_type": "code",
   "execution_count": null,
   "metadata": {},
   "outputs": [],
   "source": []
  }
 ],
 "metadata": {
  "kernelspec": {
   "display_name": "Python 3",
   "language": "python",
   "name": "python3"
  },
  "toc": {
   "base_numbering": 1,
   "nav_menu": {},
   "number_sections": true,
   "sideBar": true,
   "skip_h1_title": false,
   "title_cell": "Table of Contents",
   "title_sidebar": "Contents",
   "toc_cell": false,
   "toc_position": {
    "height": "calc(100% - 180px)",
    "left": "10px",
    "top": "150px",
    "width": "165px"
   },
   "toc_section_display": true,
   "toc_window_display": true
  },
  "varInspector": {
   "cols": {
    "lenName": 16,
    "lenType": 16,
    "lenVar": 40
   },
   "kernels_config": {
    "python": {
     "delete_cmd_postfix": "",
     "delete_cmd_prefix": "del ",
     "library": "var_list.py",
     "varRefreshCmd": "print(var_dic_list())"
    },
    "r": {
     "delete_cmd_postfix": ") ",
     "delete_cmd_prefix": "rm(",
     "library": "var_list.r",
     "varRefreshCmd": "cat(var_dic_list()) "
    }
   },
   "types_to_exclude": [
    "module",
    "function",
    "builtin_function_or_method",
    "instance",
    "_Feature"
   ],
   "window_display": false
  }
 },
 "nbformat": 4,
 "nbformat_minor": 2
}
